{
 "cells": [
  {
   "cell_type": "code",
   "execution_count": 6,
   "id": "choice-designer",
   "metadata": {},
   "outputs": [],
   "source": [
    "%config Completer.use_jedi = False\n",
    "import pycocotools.mask as mask_util\n",
    "import json\n",
    "import os"
   ]
  },
  {
   "cell_type": "code",
   "execution_count": 68,
   "id": "simplified-conditioning",
   "metadata": {},
   "outputs": [],
   "source": [
    "def decode_masks(coco_json_file):\n",
    "    '''Takes coco json file dir with dictionary of segmentations \n",
    "     Returns list of binary masks for each segmentation'''\n",
    "    ## Read and parse our json file\n",
    "    with open(json_dir, 'r') as my_file:\n",
    "        data = my_file.readlines()\n",
    "    # Parse file\n",
    "    obj = json.loads(data[0])\n",
    "    \n",
    "    ## iterate and decode segmentations\n",
    "    binary_masks = []\n",
    "    for i in range(len(obj)):\n",
    "        seg_dict = {}\n",
    "        seg_dict = {'size': obj[i]['segmentation']['size'], 'counts' : obj[i]['segmentation']['counts']}\n",
    "        mask = mask_util.decode(seg_dict)[:, :]\n",
    "        binary_masks.append(mask)\n",
    "        \n",
    "        return binary_masks\n",
    "\n",
    "    "
   ]
  },
  {
   "cell_type": "code",
   "execution_count": 71,
   "id": "exterior-parent",
   "metadata": {},
   "outputs": [],
   "source": [
    "# Test our function\n",
    "json_dir = 'D:/coco_instances_results.json'\n",
    "masks = decode_masks(json_dir)"
   ]
  },
  {
   "cell_type": "code",
   "execution_count": 70,
   "id": "empirical-paper",
   "metadata": {},
   "outputs": [
    {
     "data": {
      "text/plain": [
       "<matplotlib.image.AxesImage at 0x23fc606c288>"
      ]
     },
     "execution_count": 70,
     "metadata": {},
     "output_type": "execute_result"
    },
    {
     "data": {
      "image/png": "[encoded data removed]",
      "text/plain": [
       "<Figure size 432x288 with 1 Axes>"
      ]
     },
     "metadata": {
      "needs_background": "light"
     },
     "output_type": "display_data"
    }
   ],
   "source": [
    "plt.imshow(masks[0])"
   ]
  },
  {
   "cell_type": "code",
   "execution_count": null,
   "id": "asian-behalf",
   "metadata": {},
   "outputs": [],
   "source": []
  }
 ],
 "metadata": {
  "kernelspec": {
   "display_name": "Python 3",
   "language": "python",
   "name": "python3"
  },
  "language_info": {
   "codemirror_mode": {
    "name": "ipython",
    "version": 3
   },
   "file_extension": ".py",
   "mimetype": "text/x-python",
   "name": "python",
   "nbconvert_exporter": "python",
   "pygments_lexer": "ipython3",
   "version": "3.7.9"
  }
 },
 "nbformat": 4,
 "nbformat_minor": 5
}
