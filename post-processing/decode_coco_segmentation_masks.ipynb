{
 "cells": [
  {
   "cell_type": "code",
   "execution_count": 45,
   "id": "virgin-stewart",
   "metadata": {},
   "outputs": [],
   "source": [
    "%config Completer.use_jedi = False\n",
    "import pycocotools.mask as mask_util\n",
    "import json\n",
    "import os\n",
    "import matplotlib.pyplot as plt\n",
    "import numpy as np"
   ]
  },
  {
   "cell_type": "code",
   "execution_count": 62,
   "id": "located-cache",
   "metadata": {},
   "outputs": [],
   "source": [
    "def decode_coco_segments(coco_json_file, threshold):\n",
    "    '''Takes coco json file dir with dictionary of segmentations \n",
    "     decode the counts, merge then, and \n",
    "     Returns the predicted binary mask'''\n",
    "    \n",
    "    ## Read and parse our json file\n",
    "    with open(coco_json_file, 'r') as my_file:\n",
    "        data = my_file.readlines()\n",
    "    # Parse file\n",
    "    obj = json.loads(data[0])\n",
    "    \n",
    "    ## iterate and decode segmentations\n",
    "    binary_mask = np.zeros(obj[0]['segmentation']['size'])\n",
    "\n",
    "    for i in range(len(obj)):\n",
    "        # Check the prediction score\n",
    "        if obj[i]['score'] > threshold:\n",
    "            seg_dict = {}\n",
    "            seg_dict = {'size': obj[i]['segmentation']['size'], 'counts' : obj[i]['segmentation']['counts']}\n",
    "        \n",
    "            poly = mask_util.decode(seg_dict)[:, :]\n",
    "            binary_mask += poly\n",
    "    return binary_mask\n",
    "\n",
    "    "
   ]
  },
  {
   "cell_type": "code",
   "execution_count": 65,
   "id": "sharp-absence",
   "metadata": {},
   "outputs": [],
   "source": [
    "# Test our function\n",
    "json_dir = 'D:/coco_instances_results.json'\n",
    "\n",
    "masks = decode_coco_segments(json_dir, threshold=0.6)"
   ]
  },
  {
   "cell_type": "code",
   "execution_count": 66,
   "id": "marked-agenda",
   "metadata": {},
   "outputs": [
    {
     "data": {
      "text/plain": [
       "<matplotlib.image.AxesImage at 0x1b156971448>"
      ]
     },
     "execution_count": 66,
     "metadata": {},
     "output_type": "execute_result"
    },
    {
     "data": {
      "image/png": "[encoded data removed]",
      "text/plain": [
       "<Figure size 432x288 with 1 Axes>"
      ]
     },
     "metadata": {
      "needs_background": "light"
     },
     "output_type": "display_data"
    }
   ],
   "source": [
    "plt.imshow(masks)"
   ]
  }
 ],
 "metadata": {
  "kernelspec": {
   "display_name": "Python [conda env:.conda-omdena_energy]",
   "language": "python",
   "name": "conda-env-.conda-omdena_energy-py"
  },
  "language_info": {
   "codemirror_mode": {
    "name": "ipython",
    "version": 3
   },
   "file_extension": ".py",
   "mimetype": "text/x-python",
   "name": "python",
   "nbconvert_exporter": "python",
   "pygments_lexer": "ipython3",
   "version": "3.7.9"
  }
 },
 "nbformat": 4,
 "nbformat_minor": 5
}
