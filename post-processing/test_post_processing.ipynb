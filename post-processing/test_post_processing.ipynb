{
 "cells": [
  {
   "cell_type": "code",
   "execution_count": null,
   "id": "miniature-marina",
   "metadata": {},
   "outputs": [],
   "source": [
    "%config Completer.use_jedi = False\n",
    "from solaris.data import data_dir\n",
    "import solaris as sol\n",
    "import os\n",
    "import skimage\n",
    "import geopandas as gpd\n",
    "from matplotlib import pyplot as plt\n",
    "from shapely.ops import cascaded_union\n",
    "import cv2\n",
    "import rasterio as rio\n",
    "import pycocotools.mask as mask_util\n",
    "import shapely\n",
    "import math"
   ]
  },
  {
   "cell_type": "code",
   "execution_count": 2,
   "id": "vertical-texas",
   "metadata": {},
   "outputs": [],
   "source": [
    "from post_processing_pipeline import Post_Process"
   ]
  },
  {
   "cell_type": "code",
   "execution_count": 3,
   "id": "hidden-violin",
   "metadata": {},
   "outputs": [],
   "source": [
    "# Test our pipeline\n",
    "data_dir = 'D:/SpaceNet_TrainData/train/AOI_6_Atlanta/Atlanta_tif'\n",
    "image = rio.open(os.path.join(data_dir, 'SN4_buildings_train_AOI_6_Atlanta_nadir7_catid_1030010003D22F00_PS-RGBNIR_741251_3742239.tif'))\n",
    "mask = cv2.imread('D:/mask.jpg', 0)\n",
    "coco_file = 'D:/coco_instances_results (2).json'"
   ]
  },
  {
   "cell_type": "code",
   "execution_count": 4,
   "id": "vertical-lawsuit",
   "metadata": {},
   "outputs": [
    {
     "data": {
      "text/html": [
       "<div>\n",
       "<style scoped>\n",
       "    .dataframe tbody tr th:only-of-type {\n",
       "        vertical-align: middle;\n",
       "    }\n",
       "\n",
       "    .dataframe tbody tr th {\n",
       "        vertical-align: top;\n",
       "    }\n",
       "\n",
       "    .dataframe thead th {\n",
       "        text-align: right;\n",
       "    }\n",
       "</style>\n",
       "<table border=\"1\" class=\"dataframe\">\n",
       "  <thead>\n",
       "    <tr style=\"text-align: right;\">\n",
       "      <th></th>\n",
       "      <th>geometry</th>\n",
       "      <th>pixel_col</th>\n",
       "      <th>pixel_row</th>\n",
       "      <th>longitude</th>\n",
       "      <th>latitude</th>\n",
       "      <th>area(square feet)</th>\n",
       "      <th>Roof_Azimuth</th>\n",
       "    </tr>\n",
       "  </thead>\n",
       "  <tbody>\n",
       "    <tr>\n",
       "      <th>0</th>\n",
       "      <td>POLYGON ((33.79327 -84.39417, 33.79327 -84.394...</td>\n",
       "      <td>26.082018</td>\n",
       "      <td>812.640204</td>\n",
       "      <td>33.793225</td>\n",
       "      <td>-84.394083</td>\n",
       "      <td>2.291264e-09</td>\n",
       "      <td>-29.311315</td>\n",
       "    </tr>\n",
       "    <tr>\n",
       "      <th>1</th>\n",
       "      <td>POLYGON ((33.79335 -84.39218, 33.79335 -84.391...</td>\n",
       "      <td>415.059885</td>\n",
       "      <td>791.672504</td>\n",
       "      <td>33.793275</td>\n",
       "      <td>-84.391981</td>\n",
       "      <td>5.741707e-09</td>\n",
       "      <td>-88.788227</td>\n",
       "    </tr>\n",
       "    <tr>\n",
       "      <th>2</th>\n",
       "      <td>POLYGON ((33.79358 -84.39169, 33.79358 -84.391...</td>\n",
       "      <td>484.069760</td>\n",
       "      <td>745.437816</td>\n",
       "      <td>33.793475</td>\n",
       "      <td>-84.391603</td>\n",
       "      <td>3.579254e-09</td>\n",
       "      <td>-178.261725</td>\n",
       "    </tr>\n",
       "    <tr>\n",
       "      <th>3</th>\n",
       "      <td>POLYGON ((33.79306 -84.38979, 33.79306 -84.389...</td>\n",
       "      <td>840.452667</td>\n",
       "      <td>843.748667</td>\n",
       "      <td>33.792992</td>\n",
       "      <td>-84.389693</td>\n",
       "      <td>2.824516e-09</td>\n",
       "      <td>-88.260493</td>\n",
       "    </tr>\n",
       "    <tr>\n",
       "      <th>4</th>\n",
       "      <td>POLYGON ((33.79298 -84.38957, 33.79298 -84.389...</td>\n",
       "      <td>879.790460</td>\n",
       "      <td>846.305716</td>\n",
       "      <td>33.792976</td>\n",
       "      <td>-84.389481</td>\n",
       "      <td>1.950045e-09</td>\n",
       "      <td>-88.787057</td>\n",
       "    </tr>\n",
       "    <tr>\n",
       "      <th>5</th>\n",
       "      <td>POLYGON ((33.79289 -84.38953, 33.79289 -84.389...</td>\n",
       "      <td>883.113833</td>\n",
       "      <td>879.459654</td>\n",
       "      <td>33.792826</td>\n",
       "      <td>-84.389468</td>\n",
       "      <td>1.568168e-09</td>\n",
       "      <td>-88.787061</td>\n",
       "    </tr>\n",
       "    <tr>\n",
       "      <th>6</th>\n",
       "      <td>POLYGON ((33.79673 -84.38941, 33.79673 -84.389...</td>\n",
       "      <td>885.952131</td>\n",
       "      <td>23.695452</td>\n",
       "      <td>33.796681</td>\n",
       "      <td>-84.389335</td>\n",
       "      <td>2.368173e-09</td>\n",
       "      <td>1.740003</td>\n",
       "    </tr>\n",
       "  </tbody>\n",
       "</table>\n",
       "</div>"
      ],
      "text/plain": [
       "                                            geometry   pixel_col   pixel_row  \\\n",
       "0  POLYGON ((33.79327 -84.39417, 33.79327 -84.394...   26.082018  812.640204   \n",
       "1  POLYGON ((33.79335 -84.39218, 33.79335 -84.391...  415.059885  791.672504   \n",
       "2  POLYGON ((33.79358 -84.39169, 33.79358 -84.391...  484.069760  745.437816   \n",
       "3  POLYGON ((33.79306 -84.38979, 33.79306 -84.389...  840.452667  843.748667   \n",
       "4  POLYGON ((33.79298 -84.38957, 33.79298 -84.389...  879.790460  846.305716   \n",
       "5  POLYGON ((33.79289 -84.38953, 33.79289 -84.389...  883.113833  879.459654   \n",
       "6  POLYGON ((33.79673 -84.38941, 33.79673 -84.389...  885.952131   23.695452   \n",
       "\n",
       "   longitude   latitude  area(square feet)  Roof_Azimuth  \n",
       "0  33.793225 -84.394083       2.291264e-09    -29.311315  \n",
       "1  33.793275 -84.391981       5.741707e-09    -88.788227  \n",
       "2  33.793475 -84.391603       3.579254e-09   -178.261725  \n",
       "3  33.792992 -84.389693       2.824516e-09    -88.260493  \n",
       "4  33.792976 -84.389481       1.950045e-09    -88.787057  \n",
       "5  33.792826 -84.389468       1.568168e-09    -88.787061  \n",
       "6  33.796681 -84.389335       2.368173e-09      1.740003  "
      ]
     },
     "execution_count": 4,
     "metadata": {},
     "output_type": "execute_result"
    }
   ],
   "source": [
    "obj=Post_Process(coco_file, image)\n",
    "mask, geo_df_full = obj.get_full_post_process()\n",
    "bin_mask = obj.get_bin_mask(0.6)\n",
    "geo_df_full"
   ]
  },
  {
   "cell_type": "code",
   "execution_count": 7,
   "id": "dominant-spell",
   "metadata": {},
   "outputs": [
    {
     "data": {
      "text/plain": [
       "<matplotlib.image.AxesImage at 0x1e51a8e8e08>"
      ]
     },
     "execution_count": 7,
     "metadata": {},
     "output_type": "execute_result"
    },
    {
     "data": {
      "image/png": "[encoded data removed]",
      "text/plain": [
       "<Figure size 432x288 with 1 Axes>"
      ]
     },
     "metadata": {
      "needs_background": "light"
     },
     "output_type": "display_data"
    }
   ],
   "source": [
    "plt.imshow(bin_mask)"
   ]
  },
  {
   "cell_type": "code",
   "execution_count": 8,
   "id": "gross-ballet",
   "metadata": {},
   "outputs": [],
   "source": [
    "# Saving the dataframe\n",
    "geo_df_full.to_file(\"processed_prediction_result.geojson\", driver='GeoJSON')"
   ]
  },
  {
   "cell_type": "code",
   "execution_count": null,
   "id": "placed-study",
   "metadata": {},
   "outputs": [],
   "source": []
  }
 ],
 "metadata": {
  "kernelspec": {
   "display_name": "Python [conda env:.conda-omdena_energy]",
   "language": "python",
   "name": "conda-env-.conda-omdena_energy-py"
  },
  "language_info": {
   "codemirror_mode": {
    "name": "ipython",
    "version": 3
   },
   "file_extension": ".py",
   "mimetype": "text/x-python",
   "name": "python",
   "nbconvert_exporter": "python",
   "pygments_lexer": "ipython3",
   "version": "3.7.9"
  }
 },
 "nbformat": 4,
 "nbformat_minor": 5
}
