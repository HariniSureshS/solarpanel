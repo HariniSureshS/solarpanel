{
 "cells": [
  {
   "cell_type": "code",
   "execution_count": null,
   "id": "miniature-marina",
   "metadata": {},
   "outputs": [
    {
     "name": "stderr",
     "output_type": "stream",
     "text": [
      "C:\\Users\\rasha\\.conda\\envs\\omdena_energy\\lib\\site-packages\\tensorflow\\python\\framework\\dtypes.py:526: FutureWarning: Passing (type, 1) or '1type' as a synonym of type is deprecated; in a future version of numpy, it will be understood as (type, (1,)) / '(1,)type'.\n",
      "  _np_qint8 = np.dtype([(\"qint8\", np.int8, 1)])\n",
      "C:\\Users\\rasha\\.conda\\envs\\omdena_energy\\lib\\site-packages\\tensorflow\\python\\framework\\dtypes.py:527: FutureWarning: Passing (type, 1) or '1type' as a synonym of type is deprecated; in a future version of numpy, it will be understood as (type, (1,)) / '(1,)type'.\n",
      "  _np_quint8 = np.dtype([(\"quint8\", np.uint8, 1)])\n",
      "C:\\Users\\rasha\\.conda\\envs\\omdena_energy\\lib\\site-packages\\tensorflow\\python\\framework\\dtypes.py:528: FutureWarning: Passing (type, 1) or '1type' as a synonym of type is deprecated; in a future version of numpy, it will be understood as (type, (1,)) / '(1,)type'.\n",
      "  _np_qint16 = np.dtype([(\"qint16\", np.int16, 1)])\n",
      "C:\\Users\\rasha\\.conda\\envs\\omdena_energy\\lib\\site-packages\\tensorflow\\python\\framework\\dtypes.py:529: FutureWarning: Passing (type, 1) or '1type' as a synonym of type is deprecated; in a future version of numpy, it will be understood as (type, (1,)) / '(1,)type'.\n",
      "  _np_quint16 = np.dtype([(\"quint16\", np.uint16, 1)])\n",
      "C:\\Users\\rasha\\.conda\\envs\\omdena_energy\\lib\\site-packages\\tensorflow\\python\\framework\\dtypes.py:530: FutureWarning: Passing (type, 1) or '1type' as a synonym of type is deprecated; in a future version of numpy, it will be understood as (type, (1,)) / '(1,)type'.\n",
      "  _np_qint32 = np.dtype([(\"qint32\", np.int32, 1)])\n",
      "C:\\Users\\rasha\\.conda\\envs\\omdena_energy\\lib\\site-packages\\tensorflow\\python\\framework\\dtypes.py:535: FutureWarning: Passing (type, 1) or '1type' as a synonym of type is deprecated; in a future version of numpy, it will be understood as (type, (1,)) / '(1,)type'.\n",
      "  np_resource = np.dtype([(\"resource\", np.ubyte, 1)])\n"
     ]
    }
   ],
   "source": [
    "%config Completer.use_jedi = False\n",
    "from solaris.data import data_dir\n",
    "import solaris as sol\n",
    "import os\n",
    "import skimage\n",
    "import geopandas as gpd\n",
    "from matplotlib import pyplot as plt\n",
    "from shapely.ops import cascaded_union\n",
    "import cv2\n",
    "import rasterio as rio\n",
    "import pycocotools.mask as mask_util\n",
    "import shapely\n",
    "import math"
   ]
  },
  {
   "cell_type": "code",
   "execution_count": null,
   "id": "vertical-texas",
   "metadata": {},
   "outputs": [],
   "source": [
    "from post_processing_pipeline import Post_Process"
   ]
  },
  {
   "cell_type": "code",
   "execution_count": null,
   "id": "hidden-violin",
   "metadata": {},
   "outputs": [],
   "source": [
    "# Test our pipeline\n",
    "img_name = 'SN2_buildings_train_AOI_2_Vegas_PS-RGB_img101.tif'\n",
    "data_dir = 'D:/SpaceNet_TrainData/train/AOI_2_Vegas/Vegas_tif/'\n",
    "image = rio.open(os.path.join(data_dir, img_name))\n",
    "coco_file = 'D:/coco_instances_results (3).json'\n"
   ]
  },
  {
   "cell_type": "code",
   "execution_count": null,
   "id": "vertical-lawsuit",
   "metadata": {},
   "outputs": [],
   "source": [
    "obj=Post_Process(coco_file, image, img_name, 0.7)\n",
    "mask, geo_df_full = obj.get_full_post_process()"
   ]
  },
  {
   "cell_type": "code",
   "execution_count": null,
   "id": "oriented-netherlands",
   "metadata": {},
   "outputs": [],
   "source": [
    "plt.imshow(mask, cmap='gray')"
   ]
  },
  {
   "cell_type": "code",
   "execution_count": null,
   "id": "wanted-effort",
   "metadata": {},
   "outputs": [],
   "source": [
    "# Save the results in a json format\n",
    "obj.append_to_json('D:/coco_instances_results (3)_results.json')\n",
    "obj.save_to_csv('D:/coco_instances_results (3)_results.csv')"
   ]
  },
  {
   "cell_type": "code",
   "execution_count": null,
   "id": "induced-summary",
   "metadata": {},
   "outputs": [],
   "source": [
    "geo_df_full.iloc[0].geometry.area"
   ]
  },
  {
   "cell_type": "code",
   "execution_count": null,
   "id": "connected-glasgow",
   "metadata": {},
   "outputs": [],
   "source": [
    "img = cv2.imread('D:/SpaceNet_TrainData/train/AOI_2_Vegas/Vegas_RGB/SN2_buildings_train_AOI_2_Vegas_PS-RGB_img101.png')\n",
    "plt.imshow(img)"
   ]
  },
  {
   "cell_type": "code",
   "execution_count": null,
   "id": "modern-league",
   "metadata": {},
   "outputs": [],
   "source": [
    "geo_df_full.columns"
   ]
  },
  {
   "cell_type": "code",
   "execution_count": 13,
   "id": "familiar-helmet",
   "metadata": {},
   "outputs": [
    {
     "data": {
      "text/plain": [
       "(36.20720293307576, -115.30568858520863)"
      ]
     },
     "execution_count": 13,
     "metadata": {},
     "output_type": "execute_result"
    }
   ],
   "source": [
    "geo_df_full.iloc[0].latitude,  geo_df_full.iloc[0].longitude"
   ]
  },
  {
   "cell_type": "code",
   "execution_count": 14,
   "id": "failing-morning",
   "metadata": {},
   "outputs": [
    {
     "data": {
      "text/html": [
       "<div>\n",
       "<style scoped>\n",
       "    .dataframe tbody tr th:only-of-type {\n",
       "        vertical-align: middle;\n",
       "    }\n",
       "\n",
       "    .dataframe tbody tr th {\n",
       "        vertical-align: top;\n",
       "    }\n",
       "\n",
       "    .dataframe thead th {\n",
       "        text-align: right;\n",
       "    }\n",
       "</style>\n",
       "<table border=\"1\" class=\"dataframe\">\n",
       "  <thead>\n",
       "    <tr style=\"text-align: right;\">\n",
       "      <th></th>\n",
       "      <th>geometry</th>\n",
       "      <th>pixel_x</th>\n",
       "      <th>pixel_y</th>\n",
       "      <th>area(square meter)</th>\n",
       "      <th>Roof_Azimuth</th>\n",
       "      <th>latitude</th>\n",
       "      <th>longitude</th>\n",
       "    </tr>\n",
       "  </thead>\n",
       "  <tbody>\n",
       "    <tr>\n",
       "      <th>0</th>\n",
       "      <td>POLYGON ((36.207 -115.306, 36.207 -115.306, 36...</td>\n",
       "      <td>23.372576</td>\n",
       "      <td>22.542475</td>\n",
       "      <td>26.254532</td>\n",
       "      <td>91.001016</td>\n",
       "      <td>36.207203</td>\n",
       "      <td>-115.305689</td>\n",
       "    </tr>\n",
       "    <tr>\n",
       "      <th>1</th>\n",
       "      <td>POLYGON ((36.206 -115.306, 36.206 -115.306, 36...</td>\n",
       "      <td>517.411333</td>\n",
       "      <td>36.162000</td>\n",
       "      <td>36.364228</td>\n",
       "      <td>91.001004</td>\n",
       "      <td>36.205869</td>\n",
       "      <td>-115.305652</td>\n",
       "    </tr>\n",
       "    <tr>\n",
       "      <th>2</th>\n",
       "      <td>POLYGON ((36.206 -115.305, 36.206 -115.305, 36...</td>\n",
       "      <td>611.508207</td>\n",
       "      <td>153.258207</td>\n",
       "      <td>19.200377</td>\n",
       "      <td>91.001187</td>\n",
       "      <td>36.205615</td>\n",
       "      <td>-115.305336</td>\n",
       "    </tr>\n",
       "    <tr>\n",
       "      <th>3</th>\n",
       "      <td>POLYGON ((36.206 -115.305, 36.206 -115.305, 36...</td>\n",
       "      <td>390.039727</td>\n",
       "      <td>259.930478</td>\n",
       "      <td>39.055028</td>\n",
       "      <td>83.308825</td>\n",
       "      <td>36.206213</td>\n",
       "      <td>-115.305048</td>\n",
       "    </tr>\n",
       "    <tr>\n",
       "      <th>4</th>\n",
       "      <td>POLYGON ((36.207 -115.305, 36.207 -115.305, 36...</td>\n",
       "      <td>244.232687</td>\n",
       "      <td>269.180979</td>\n",
       "      <td>26.254740</td>\n",
       "      <td>-88.998596</td>\n",
       "      <td>36.206607</td>\n",
       "      <td>-115.305023</td>\n",
       "    </tr>\n",
       "    <tr>\n",
       "      <th>5</th>\n",
       "      <td>POLYGON ((36.207 -115.305, 36.207 -115.305, 36...</td>\n",
       "      <td>122.739708</td>\n",
       "      <td>273.483400</td>\n",
       "      <td>18.254606</td>\n",
       "      <td>-95.165880</td>\n",
       "      <td>36.206935</td>\n",
       "      <td>-115.305011</td>\n",
       "    </tr>\n",
       "    <tr>\n",
       "      <th>6</th>\n",
       "      <td>POLYGON ((36.207 -115.305, 36.207 -115.305, 36...</td>\n",
       "      <td>213.051479</td>\n",
       "      <td>282.463708</td>\n",
       "      <td>61.454938</td>\n",
       "      <td>-102.405529</td>\n",
       "      <td>36.206691</td>\n",
       "      <td>-115.304987</td>\n",
       "    </tr>\n",
       "    <tr>\n",
       "      <th>7</th>\n",
       "      <td>POLYGON ((36.207 -115.305, 36.207 -115.305, 36...</td>\n",
       "      <td>44.946429</td>\n",
       "      <td>301.286706</td>\n",
       "      <td>24.436381</td>\n",
       "      <td>-111.056977</td>\n",
       "      <td>36.207145</td>\n",
       "      <td>-115.304936</td>\n",
       "    </tr>\n",
       "    <tr>\n",
       "      <th>8</th>\n",
       "      <td>POLYGON ((36.206 -115.305, 36.206 -115.305, 36...</td>\n",
       "      <td>479.283224</td>\n",
       "      <td>331.976035</td>\n",
       "      <td>33.382336</td>\n",
       "      <td>75.884085</td>\n",
       "      <td>36.205972</td>\n",
       "      <td>-115.304853</td>\n",
       "    </tr>\n",
       "    <tr>\n",
       "      <th>9</th>\n",
       "      <td>POLYGON ((36.207 -115.305, 36.207 -115.305, 36...</td>\n",
       "      <td>270.761297</td>\n",
       "      <td>381.543222</td>\n",
       "      <td>37.018497</td>\n",
       "      <td>-102.035611</td>\n",
       "      <td>36.206535</td>\n",
       "      <td>-115.304719</td>\n",
       "    </tr>\n",
       "    <tr>\n",
       "      <th>10</th>\n",
       "      <td>POLYGON ((36.207 -115.305, 36.207 -115.305, 36...</td>\n",
       "      <td>227.520191</td>\n",
       "      <td>398.660426</td>\n",
       "      <td>33.018416</td>\n",
       "      <td>75.884335</td>\n",
       "      <td>36.206652</td>\n",
       "      <td>-115.304673</td>\n",
       "    </tr>\n",
       "    <tr>\n",
       "      <th>11</th>\n",
       "      <td>POLYGON ((36.206 -115.305, 36.206 -115.305, 36...</td>\n",
       "      <td>397.935146</td>\n",
       "      <td>398.725941</td>\n",
       "      <td>17.382042</td>\n",
       "      <td>-88.998397</td>\n",
       "      <td>36.206192</td>\n",
       "      <td>-115.304673</td>\n",
       "    </tr>\n",
       "    <tr>\n",
       "      <th>12</th>\n",
       "      <td>POLYGON ((36.207 -115.305, 36.207 -115.305, 36...</td>\n",
       "      <td>162.463374</td>\n",
       "      <td>423.430444</td>\n",
       "      <td>36.072905</td>\n",
       "      <td>142.862063</td>\n",
       "      <td>36.206827</td>\n",
       "      <td>-115.304606</td>\n",
       "    </tr>\n",
       "    <tr>\n",
       "      <th>13</th>\n",
       "      <td>POLYGON ((36.207 -115.304, 36.207 -115.304, 36...</td>\n",
       "      <td>19.399114</td>\n",
       "      <td>484.669734</td>\n",
       "      <td>35.563643</td>\n",
       "      <td>68.943316</td>\n",
       "      <td>36.207214</td>\n",
       "      <td>-115.304441</td>\n",
       "    </tr>\n",
       "  </tbody>\n",
       "</table>\n",
       "</div>"
      ],
      "text/plain": [
       "                                             geometry     pixel_x     pixel_y  \\\n",
       "0   POLYGON ((36.207 -115.306, 36.207 -115.306, 36...   23.372576   22.542475   \n",
       "1   POLYGON ((36.206 -115.306, 36.206 -115.306, 36...  517.411333   36.162000   \n",
       "2   POLYGON ((36.206 -115.305, 36.206 -115.305, 36...  611.508207  153.258207   \n",
       "3   POLYGON ((36.206 -115.305, 36.206 -115.305, 36...  390.039727  259.930478   \n",
       "4   POLYGON ((36.207 -115.305, 36.207 -115.305, 36...  244.232687  269.180979   \n",
       "5   POLYGON ((36.207 -115.305, 36.207 -115.305, 36...  122.739708  273.483400   \n",
       "6   POLYGON ((36.207 -115.305, 36.207 -115.305, 36...  213.051479  282.463708   \n",
       "7   POLYGON ((36.207 -115.305, 36.207 -115.305, 36...   44.946429  301.286706   \n",
       "8   POLYGON ((36.206 -115.305, 36.206 -115.305, 36...  479.283224  331.976035   \n",
       "9   POLYGON ((36.207 -115.305, 36.207 -115.305, 36...  270.761297  381.543222   \n",
       "10  POLYGON ((36.207 -115.305, 36.207 -115.305, 36...  227.520191  398.660426   \n",
       "11  POLYGON ((36.206 -115.305, 36.206 -115.305, 36...  397.935146  398.725941   \n",
       "12  POLYGON ((36.207 -115.305, 36.207 -115.305, 36...  162.463374  423.430444   \n",
       "13  POLYGON ((36.207 -115.304, 36.207 -115.304, 36...   19.399114  484.669734   \n",
       "\n",
       "    area(square meter)  Roof_Azimuth   latitude   longitude  \n",
       "0            26.254532     91.001016  36.207203 -115.305689  \n",
       "1            36.364228     91.001004  36.205869 -115.305652  \n",
       "2            19.200377     91.001187  36.205615 -115.305336  \n",
       "3            39.055028     83.308825  36.206213 -115.305048  \n",
       "4            26.254740    -88.998596  36.206607 -115.305023  \n",
       "5            18.254606    -95.165880  36.206935 -115.305011  \n",
       "6            61.454938   -102.405529  36.206691 -115.304987  \n",
       "7            24.436381   -111.056977  36.207145 -115.304936  \n",
       "8            33.382336     75.884085  36.205972 -115.304853  \n",
       "9            37.018497   -102.035611  36.206535 -115.304719  \n",
       "10           33.018416     75.884335  36.206652 -115.304673  \n",
       "11           17.382042    -88.998397  36.206192 -115.304673  \n",
       "12           36.072905    142.862063  36.206827 -115.304606  \n",
       "13           35.563643     68.943316  36.207214 -115.304441  "
      ]
     },
     "execution_count": 14,
     "metadata": {},
     "output_type": "execute_result"
    }
   ],
   "source": [
    "geo_df_full"
   ]
  },
  {
   "cell_type": "code",
   "execution_count": null,
   "id": "honest-knowing",
   "metadata": {},
   "outputs": [],
   "source": []
  }
 ],
 "metadata": {
  "kernelspec": {
   "display_name": "Python [conda env:.conda-omdena_energy]",
   "language": "python",
   "name": "conda-env-.conda-omdena_energy-py"
  },
  "language_info": {
   "codemirror_mode": {
    "name": "ipython",
    "version": 3
   },
   "file_extension": ".py",
   "mimetype": "text/x-python",
   "name": "python",
   "nbconvert_exporter": "python",
   "pygments_lexer": "ipython3",
   "version": "3.7.9"
  }
 },
 "nbformat": 4,
 "nbformat_minor": 5
}
