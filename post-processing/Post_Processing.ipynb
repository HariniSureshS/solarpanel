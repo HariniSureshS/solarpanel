{
 "cells": [
  {
   "cell_type": "code",
   "execution_count": 17,
   "id": "surprising-growth",
   "metadata": {},
   "outputs": [],
   "source": [
    "%config Completer.use_jedi = False"
   ]
  },
  {
   "cell_type": "markdown",
   "id": "concerned-cycling",
   "metadata": {},
   "source": [
    "## Steps:\n",
    "\n",
    "1- Generate the binary mask from model prediction\n",
    "\n",
    "2- Find contours and generate the pixel polygons for our binary mask\n",
    "\n",
    "3- Knowing that our address in in the center, get the closest polygon to the center of the image\n",
    "by measuring the distance betweeen the center pixel and the polygon centroids.\n",
    "\n",
    "4- Extract our desired polygon\n"
   ]
  },
  {
   "cell_type": "code",
   "execution_count": 18,
   "id": "manual-location",
   "metadata": {},
   "outputs": [],
   "source": [
    "import os\n",
    "import skimage\n",
    "import geopandas as gpd\n",
    "from matplotlib import pyplot as plt\n",
    "from shapely.ops import cascaded_union\n",
    "import cv2\n",
    "import rasterio as rio\n",
    "import pycocotools.mask as mask_util\n",
    "import shapely\n",
    "import math\n",
    "import numpy as np\n",
    "import json\n",
    "from shapely.geometry import Polygon, Point\n",
    "import csv\n",
    "import pandas as pd\n",
    "from skimage import measure\n",
    "from PIL import Image\n"
   ]
  },
  {
   "cell_type": "code",
   "execution_count": 601,
   "id": "legal-florence",
   "metadata": {},
   "outputs": [],
   "source": [
    "\n",
    "\n",
    "#!/usr/bin/env python\n",
    "# coding: utf-8\n",
    "\n",
    "# In[7]:\n",
    "\n",
    "#!/usr/bin/env python\n",
    "# coding: utf-8\n",
    "\n",
    "class Post_Process:\n",
    "    def __init__(self, building_tile, xycoords, coco_file, crs_value='EPSG:4326'):\n",
    "        '''\n",
    "        class takes model prediction (coco json format)\n",
    "        and tile_prediction(full path) of the model and location , for post processing\n",
    "        Returns, binary mask and dataframe with area and oriantation\n",
    "        '''\n",
    "        self.coco_file = coco_file\n",
    "        self.add_loc = xycoords\n",
    "        self.geo_df = None\n",
    "        self.building_df = None\n",
    "        self.bin_mask = None\n",
    "        self.result_dict = []\n",
    "        self.crs_value = crs_value\n",
    "        self.tile_prediction = building_tile\n",
    "        \n",
    "    def get_bin_mask(self):\n",
    "        '''Decods the model prediction in Json format with the encoded masks\n",
    "        Retruns the binary mask '''\n",
    "\n",
    "        ## Read and parse our json file\n",
    "        with open(self.coco_file, 'r') as my_file:\n",
    "            data = my_file.readlines()\n",
    "            # Parse file\n",
    "            obj = json.loads(data[0])\n",
    "            obj = json.loads(obj)\n",
    "        \n",
    "        #poly_loc_list = []\n",
    "        ## iterate and decode segmentations\n",
    "        self.bin_mask = np.zeros(np.array(obj['pred_masks'][0]).shape)\n",
    "\n",
    "        for i in range(len(obj['boxes'])):\n",
    "            seg_dict = {}\n",
    "            seg_dict = {'scores': obj['scores'][i], 'pred_masks' : np.array(obj['pred_masks'][i], dtype=int)}\n",
    "        \n",
    "            #poly = mask_util.decode(seg_dict)[:, :]\n",
    "            self.bin_mask += seg_dict['pred_masks']\n",
    "            \n",
    "        return  self.bin_mask\n",
    "    \n",
    "    def calc_azimuth(self, g):\n",
    "        '''takes a geometry  and returns the angle'''        \n",
    "        a = g.minimum_rotated_rectangle\n",
    "        l = a.boundary\n",
    "        coords = [c for c in l.coords]\n",
    "        segments = [shapely.geometry.LineString([a, b]) for a, b in zip(coords,coords[1:])]\n",
    "        longest_segment = max(segments, key=lambda x: x.length)\n",
    "\n",
    "        p1, p2 = [c for c in longest_segment.coords]\n",
    "        angle = math.degrees(math.atan2(p2[1]-p1[1], p2[0]-p1[0]))\n",
    "        return angle\n",
    "    \n",
    "    def get_area(self, df):\n",
    "        '''\n",
    "        calculate area for our polygons and append to the geo_df\n",
    "        '''\n",
    "        # reproject to meter coordinates\n",
    "        geo_df_meter = df.copy()\n",
    "        geo_df_meter = geo_df_meter.to_crs('EPSG:3763') #5703\n",
    "        # If it we have the df\n",
    "        # Get the area and append to the df\n",
    "        if geo_df_meter is not None :\n",
    "            # Calculate the area\n",
    "            area = ((geo_df_meter['geometry'].area)) # In sequare meter /10.764\n",
    "\n",
    "        else:\n",
    "            print(\"No dataframe acquired, yet. Use get_geo_df\")\n",
    "        \n",
    "        return area\n",
    "    \n",
    "    def get_px_coords_df(self):\n",
    "        #Convert ourbinary mask to polygons      \n",
    "        if self.bin_mask is not None:\n",
    "            contours = measure.find_contours(self.bin_mask, 0.5)\n",
    "            len(contours)\n",
    "            px_polys = []\n",
    "            for contour in contours:\n",
    "                if len(contour) > 3: # Check for valid polygons points\n",
    "                    #poly.is_valid\n",
    "                    poly = Polygon(contour).simplify(1.0)\n",
    "                    if Polygon(contour).simplify(1.0).is_valid:\n",
    "                        px_polys.append(poly)\n",
    "\n",
    "            data = []\n",
    "            boxes = self.get_bboxes()\n",
    "           \n",
    "            for i in range(len(px_polys)):\n",
    "                data_dict = {}\n",
    "                data_dict = {'value': i, 'geometry' :px_polys[i], 'bbox' : boxes[i]}\n",
    "                data.append(data_dict)\n",
    "            \n",
    "            # Create dataFrame\n",
    "            self.geo_df = gpd.GeoDataFrame(data)\n",
    "            \n",
    "        else:\n",
    "            print(\"Claclulate binary mask first using get_bin_mask\")\n",
    "        \n",
    "        self.geo_df = self.geo_df.drop(['value'], axis = 1) \n",
    "        return self.geo_df\n",
    "   \n",
    "    def get_px_coords(self):\n",
    "        \"\"\"Function to get geo coordinates given a pixel coordinates\"\"\"\n",
    "        xs_list = []\n",
    "        ys_list = []\n",
    "        # Get thelist of pixel lat/long\n",
    "        # First we get the pixel lat/long values\n",
    "        self.geo_df['px_coords'] = self.geo_df['geometry'].centroid\n",
    "        \n",
    "        ''' \n",
    "        #Extract lat and lon from the centerpoint\n",
    "        self.geo_df[\"pixel_x\"] = self.geo_df.pixel_Center_point.map(lambda p: p.x)\n",
    "        self.geo_df[\"pixel_y\"] = self.geo_df.pixel_Center_point.map(lambda p: p.y)'''\n",
    "              \n",
    "        return self.geo_df\n",
    "\n",
    "\n",
    "    def get_bboxes(self):\n",
    "        '''Get the bbox list from our prediction json'''\n",
    "        # Read the coco file and get the boxes\n",
    "        ## Read and parse our json file\n",
    "        with open(self.coco_file, 'r') as my_file:\n",
    "            data = my_file.readlines()\n",
    "            # Parse file\n",
    "            obj = json.loads(data[0])\n",
    "            obj = json.loads(obj)\n",
    "        bbox_list = []\n",
    "        for box in obj['boxes']:\n",
    "            bbox_list.append(box)\n",
    "        return bbox_list\n",
    "    \n",
    "    \n",
    "    def extract_building(self, px_df, target_building= 'D:/target_building.png'):\n",
    "        ''' takes pixel coordiantes dataframe and \n",
    "        Get the building closest to our building (lat/long/center) '''\n",
    "        # Find the center point of an image\n",
    "        im=cv2.imread(self.tile_prediction)\n",
    "        center_point = [im.shape[0]/2, im.shape[1]/2]\n",
    "        \n",
    "        # Check the bounding box containing our center point\n",
    "        target_bbox = [0, 0, 0, 0]\n",
    "        for bbox in np.array(px_df.bbox):\n",
    "            if (bbox[0] < center_point[0] < bbox[2]) and (bbox[1] < center_point[1] < bbox[3]):\n",
    "                target_bbox = bbox\n",
    "                \n",
    "        return target_bbox\n",
    "    \n",
    "    def get_bin_mask_poly(self, mask):\n",
    "        #Convert ourbinary mask to polygons      \n",
    "        if mask is not None:\n",
    "            contours = measure.find_contours(mask, 0.5)\n",
    "            #contours = cv2.findContours(mask, cv2.RETR_EXTERNAL,\n",
    "                        #cv2.CHAIN_APPROX_SIMPLE)\n",
    "            len(contours)\n",
    "            px_polys = []\n",
    "            for contour in contours:\n",
    "                if len(contour) > 3: # Check for valid polygons points\n",
    "                    #poly.is_valid\n",
    "                    poly = Polygon(contour).simplify(1.0)\n",
    "                    if poly.is_valid:\n",
    "                        px_polys.append(poly)\n",
    "\n",
    "            data = []\n",
    "           \n",
    "            for i in range(len(px_polys)):\n",
    "                data_dict = {}\n",
    "                data_dict = {'value': i, 'geometry' :px_polys[i]}\n",
    "                data.append(data_dict)\n",
    "            \n",
    "            # Create dataFrame\n",
    "            px_df = gpd.GeoDataFrame(data)\n",
    "            \n",
    "        else:\n",
    "            print(\"Claclulate binary mask first using get_bin_mask\")\n",
    "        \n",
    "        #px_df = px_df.drop(['value'], axis = 1) \n",
    "        return px_df, contours\n",
    "   \n",
    "        \n",
    "    \n",
    "    def get_azimuth(self, df):\n",
    "        #Calculate the azimuth angle\n",
    "        # Make sure we already have the geo_df calculated\n",
    "        list_azimuth = []\n",
    "        if df is not None :\n",
    "            geo_df_meter = df.copy()\n",
    "            geo_df_meter = geo_df_meter.to_crs('EPSG:3763')\n",
    "\n",
    "            for i in range(len(geo_df_meter)):\n",
    "                g = geo_df_meter.iloc[i].geometry\n",
    "                angle = self.calc_azimuth(g)\n",
    "                list_azimuth.append(angle)       \n",
    "        \n",
    "        else: \n",
    "             print(\"No dataframe acquired, yet. Use get_geo_df\")\n",
    "        \n",
    "        return list_azimuth\n",
    "    \n",
    "    \n",
    "    \n",
    "    # Append the information to our json file and save it somewhere\n",
    "    def append_to_json(self, filename):\n",
    "        '''takes a ../filename.json and \n",
    "        save the dictionary with all the information\n",
    "        in a JSON file on disk'''\n",
    "        ## Read and parse our json file\n",
    "        with open(self.coco_file, 'r') as my_file:\n",
    "            data = my_file.readlines()\n",
    "            # Parse file\n",
    "            obj = json.loads(data[0])\n",
    "            obj = json.loads(obj)\n",
    "        for i in range(len(self.geo_df)):\n",
    "            seg_dict = {}\n",
    "            seg_dict = {'boxes': obj['boxes'][i], 'pred_masks':obj['pred_masks'][i]}\n",
    "            seg_dict['geometry'] = (np.asarray(self.geo_df.iloc[i].geometry.exterior.coords)).tolist()\n",
    "            seg_dict['longitude'] =  self.geo_df.iloc[i].longitude\n",
    "            seg_dict['latitude'] = self.geo_df.iloc[i].latitude\n",
    "            seg_dict['area(square meter)'] = self.geo_df.iloc[i]['area(square meter)']\n",
    "            seg_dict['Roof_Azimuth'] = self.geo_df.iloc[i].Roof_Azimuth       \n",
    "                                    \n",
    "            self.result_dict.append(seg_dict)\n",
    "\n",
    "            with open(filename, 'w') as outfile:\n",
    "                json.dump(self.result_dict, outfile)\n",
    "                    \n",
    "        \n",
    "    # Helper method to save our list of dictionaries as a csv file\n",
    "    def save_to_csv(self, file_name):\n",
    "        '''Takes a file name with csv extension'''\n",
    "        keys = self.result_dict[0].keys()\n",
    "        with open(file_name, 'w', newline='')  as output_file:\n",
    "            dict_writer = csv.DictWriter(output_file, keys)\n",
    "            dict_writer.writeheader()\n",
    "            dict_writer.writerows( self.result_dict)\n",
    "            \n",
    "    def get_geo_coords(self, df, tif_img):\n",
    "        #Convert the each pixel point \n",
    "        #to a georefrenced point with lat/long coordinates\n",
    "        # Now convert the pixel row/col to lat/long\n",
    "        # unravel GDAL affine transform parameters\n",
    "        coords = [list(poly.exterior.coords) for poly in df.geometry]\n",
    "        geo_poly = []\n",
    "        geo_coords = []\n",
    "\n",
    "        for poly in coords:\n",
    "            geo_poly = []\n",
    "            #print(poly)\n",
    "            for points in poly:\n",
    "                x = points[0]\n",
    "                y = points[1]\n",
    "        \n",
    "                (px, py) = rio.transform.xy(tif_img.transform, x, y, offset='center')\n",
    "                poly = (px, py)\n",
    "                geo_poly.append(poly)\n",
    "        \n",
    "            geo_coords.append(geo_poly)\n",
    "    \n",
    "        geo_polys = []    \n",
    "        for poly in geo_coords:\n",
    "            geo_polys.append(Polygon(poly))\n",
    "        \n",
    "        # Add the new polygons to our gdf\n",
    "        #self.geo_df['px_polygonss'] = self.geo_df['geometry'] # The old pixel polygons\n",
    "        df['geometry'] = geo_polys # assign the new polygons\n",
    "        df = df.set_crs('EPSG:4326') #\n",
    "        return df\n",
    "    \n",
    "            \n",
    "    "
   ]
  },
  {
   "cell_type": "code",
   "execution_count": 633,
   "id": "funky-guarantee",
   "metadata": {},
   "outputs": [],
   "source": [
    "work_dir = 'D:/georefrencing/[33.7758142, -84.35644359999999]/'\n",
    "coco_file = 'D:/georefrencing/[33.7758142, -84.35644359999999]/final_pred.json'\n",
    "pred_tile = 'D:/georefrencing/[33.7758142, -84.35644359999999]/tile_pred.png'\n",
    "building_tile = 'D:/georefrencing/[33.7758142, -84.35644359999999]/building_tile.png'\n"
   ]
  },
  {
   "cell_type": "markdown",
   "id": "oriental-affect",
   "metadata": {},
   "source": [
    "### For NEARMAP"
   ]
  },
  {
   "cell_type": "code",
   "execution_count": 634,
   "id": "suffering-mother",
   "metadata": {},
   "outputs": [],
   "source": [
    "obj=Post_Process(building_tile, loc, coco_file)\n",
    "mask = obj.get_bin_mask()\n",
    "\n",
    "px_df = obj.get_px_coords_df()\n",
    "px_df = obj.get_px_coords()\n",
    "#px_df.to_csv(os.path.join(work_dir, 'px_df.csv'))\n",
    "'''geo_df = px_df.drop(['px_coords', 'bbox'], axis=1)\n",
    "geo_df = gpd.GeoDataFrame(geo_df)'''\n",
    "'''geo_df.to_file(os.path.join(work_dir, 'px_df.geojson'), driver='GeoJSON')'''\n",
    "# Extract and save our building\n",
    "bbox=obj.extract_building(px_df=px_df)\n"
   ]
  },
  {
   "cell_type": "code",
   "execution_count": 635,
   "id": "spanish-equation",
   "metadata": {},
   "outputs": [
    {
     "data": {
      "text/plain": [
       "True"
      ]
     },
     "execution_count": 635,
     "metadata": {},
     "output_type": "execute_result"
    }
   ],
   "source": [
    "mask = mask.astype(int)\n",
    "cv2.imwrite(os.path.join(work_dir, 'mask.png'), mask)"
   ]
  },
  {
   "cell_type": "code",
   "execution_count": 636,
   "id": "greater-nerve",
   "metadata": {},
   "outputs": [
    {
     "data": {
      "text/plain": [
       "<matplotlib.image.AxesImage at 0x1d43c281208>"
      ]
     },
     "execution_count": 636,
     "metadata": {},
     "output_type": "execute_result"
    },
    {
     "data": {
      "image/png": "[encoded data removed]",
      "text/plain": [
       "<Figure size 432x288 with 1 Axes>"
      ]
     },
     "metadata": {
      "needs_background": "light"
     },
     "output_type": "display_data"
    }
   ],
   "source": [
    "im = cv2.imread(os.path.join(work_dir, 'mask.png'))\n",
    "plt.imshow(mask)"
   ]
  },
  {
   "cell_type": "code",
   "execution_count": 637,
   "id": "limiting-updating",
   "metadata": {},
   "outputs": [
    {
     "name": "stdout",
     "output_type": "stream",
     "text": [
      "1\n"
     ]
    },
    {
     "data": {
      "image/png": "[encoded data removed]",
      "text/plain": [
       "<Figure size 432x288 with 1 Axes>"
      ]
     },
     "metadata": {
      "needs_background": "light"
     },
     "output_type": "display_data"
    }
   ],
   "source": [
    "im=Image.open(os.path.join(work_dir, 'mask.png'))\n",
    "im_crop=im.crop(bbox)\n",
    "\n",
    "#pix_mask_img = np.array(im_crop)\n",
    "\n",
    "im_crop.save(os.path.join(work_dir, 'target_mask.png'))\n",
    "# add padding of 3 black pixels so we end up with valid polygons\n",
    "im_crop_pad = np.pad(np.array(im_crop) , (3, 3), 'constant')\n",
    "\n",
    "#t_mask = cv2.imread(os.path.join(work_dir, 'target_mask.png'), cv2.COLOR_BAYER_BG2GRAY)\n",
    "#threshold = 1\n",
    "#t_mask_new = np.where(t_mask/0.5>=threshold, 1, 0)\n",
    "#t_mask_new_pad = np.pad(t_mask_new, (3, 3), 'constant')\n",
    "plt.imshow(im_crop_pad, cmap='gray')\n",
    "print(t_mask.max())"
   ]
  },
  {
   "cell_type": "code",
   "execution_count": 640,
   "id": "determined-stack",
   "metadata": {},
   "outputs": [],
   "source": [
    "\n",
    "px_target_df, cont = obj.get_bin_mask_poly(im_crop_pad)"
   ]
  },
  {
   "cell_type": "code",
   "execution_count": 641,
   "id": "informational-jurisdiction",
   "metadata": {},
   "outputs": [
    {
     "data": {
      "text/plain": [
       "<AxesSubplot:>"
      ]
     },
     "execution_count": 641,
     "metadata": {},
     "output_type": "execute_result"
    },
    {
     "data": {
      "image/png": "[encoded data removed]",
      "text/plain": [
       "<Figure size 432x288 with 1 Axes>"
      ]
     },
     "metadata": {
      "needs_background": "light"
     },
     "output_type": "display_data"
    }
   ],
   "source": [
    "px_target_df.geometry.plot()"
   ]
  },
  {
   "cell_type": "code",
   "execution_count": 642,
   "id": "fatal-copying",
   "metadata": {},
   "outputs": [],
   "source": [
    "tif_img = rio.open(\"D:/SN2_buildings_train_AOI_2_Vegas_PS-RGB_img3.tif\")\n",
    "geo_df = obj.get_geo_coords(px_target_df, tif_img)"
   ]
  },
  {
   "cell_type": "code",
   "execution_count": 644,
   "id": "ethical-diary",
   "metadata": {},
   "outputs": [
    {
     "data": {
      "text/plain": [
       "<AxesSubplot:>"
      ]
     },
     "execution_count": 644,
     "metadata": {},
     "output_type": "execute_result"
    },
    {
     "data": {
      "image/png": "[encoded data removed]",
      "text/plain": [
       "<Figure size 432x288 with 1 Axes>"
      ]
     },
     "metadata": {
      "needs_background": "light"
     },
     "output_type": "display_data"
    }
   ],
   "source": [
    "geo_df.geometry.plot()"
   ]
  },
  {
   "cell_type": "code",
   "execution_count": 643,
   "id": "local-novel",
   "metadata": {},
   "outputs": [
    {
     "name": "stdout",
     "output_type": "stream",
     "text": [
      "[-27.78916551781458]\n",
      "0    1103.517458\n",
      "dtype: float64\n"
     ]
    }
   ],
   "source": [
    "azimuth = obj.get_azimuth(geo_df)\n",
    "print(azimuth)\n",
    "area = obj.get_area(geo_df)\n",
    "print(area)"
   ]
  },
  {
   "cell_type": "code",
   "execution_count": 284,
   "id": "cathedral-lawyer",
   "metadata": {},
   "outputs": [
    {
     "data": {
      "text/plain": [
       "[277.06524658203125, 313.6515808105469, 359.1673278808594, 382.27880859375]"
      ]
     },
     "execution_count": 284,
     "metadata": {},
     "output_type": "execute_result"
    },
    {
     "data": {
      "image/png": "[encoded data removed]",
      "text/plain": [
       "<Figure size 432x288 with 1 Axes>"
      ]
     },
     "metadata": {
      "needs_background": "light"
     },
     "output_type": "display_data"
    }
   ],
   "source": [
    "#bbox = np.array(px_df.iloc[6].bbox)\n",
    "im=Image.open(building_tile)\n",
    "im_crop=im.crop(bbox)\n",
    "plt.imshow(im_crop)\n",
    "bbox\n"
   ]
  },
  {
   "cell_type": "code",
   "execution_count": 146,
   "id": "automatic-radical",
   "metadata": {},
   "outputs": [
    {
     "data": {
      "image/svg+xml": [
       "<svg xmlns=\"http://www.w3.org/2000/svg\" xmlns:xlink=\"http://www.w3.org/1999/xlink\" width=\"100.0\" height=\"103.68\" viewBox=\"259.66 22.66 58.67999999999995 103.68\" preserveAspectRatio=\"xMinYMin meet\"><g transform=\"matrix(1,0,0,-1,0,149.0)\"><path fill-rule=\"evenodd\" fill=\"#66cc99\" stroke=\"#555555\" stroke-width=\"2.0\" opacity=\"0.6\" d=\"M 314.5,69.0 L 313.5,29.0 L 312.0,27.5 L 304.0,26.5 L 286.0,27.5 L 282.5,32.0 L 282.5,40.0 L 280.0,42.5 L 271.0,43.5 L 266.5,48.0 L 267.5,77.0 L 263.5,83.0 L 263.5,117.0 L 266.0,120.5 L 282.0,120.5 L 285.0,122.5 L 295.0,122.5 L 302.0,121.5 L 306.5,119.0 L 307.5,87.0 L 313.5,82.0 L 314.5,69.0 z\" /></g></svg>"
      ],
      "text/plain": [
       "<shapely.geometry.polygon.Polygon at 0x1d43687edc8>"
      ]
     },
     "execution_count": 146,
     "metadata": {},
     "output_type": "execute_result"
    }
   ],
   "source": [
    "px_df.iloc[10].geometry"
   ]
  },
  {
   "cell_type": "code",
   "execution_count": 130,
   "id": "accomplished-hampton",
   "metadata": {},
   "outputs": [
    {
     "name": "stdout",
     "output_type": "stream",
     "text": [
      "POINT (383.1660228898427 304.1148927038627)\n"
     ]
    }
   ],
   "source": [
    "print(px_df.iloc[26].px_coords)"
   ]
  },
  {
   "cell_type": "code",
   "execution_count": 132,
   "id": "subjective-sitting",
   "metadata": {
    "scrolled": true
   },
   "outputs": [
    {
     "data": {
      "text/plain": [
       "'from PIL import Image\\nimg = Image.open(pred_tile)\\nplt.figure(figsize=(10, 10))\\nplt.imshow(np.asarray(img))\\nprint(img.height)'"
      ]
     },
     "execution_count": 132,
     "metadata": {},
     "output_type": "execute_result"
    }
   ],
   "source": [
    "'''from PIL import Image\n",
    "img = Image.open(pred_tile)\n",
    "plt.figure(figsize=(10, 10))\n",
    "plt.imshow(np.asarray(img))\n",
    "print(img.height)'''"
   ]
  },
  {
   "cell_type": "code",
   "execution_count": 87,
   "id": "simple-contract",
   "metadata": {},
   "outputs": [
    {
     "data": {
      "text/plain": [
       "<matplotlib.image.AxesImage at 0x1d4333041c8>"
      ]
     },
     "execution_count": 87,
     "metadata": {},
     "output_type": "execute_result"
    },
    {
     "data": {
      "image/png": "[encoded data removed]",
      "text/plain": [
       "<Figure size 432x288 with 1 Axes>"
      ]
     },
     "metadata": {
      "needs_background": "light"
     },
     "output_type": "display_data"
    }
   ],
   "source": [
    "plt.imshow(mask)"
   ]
  },
  {
   "cell_type": "code",
   "execution_count": 137,
   "id": "corporate-characteristic",
   "metadata": {},
   "outputs": [
    {
     "data": {
      "text/plain": [
       "'px_df'"
      ]
     },
     "execution_count": 137,
     "metadata": {},
     "output_type": "execute_result"
    }
   ],
   "source": [
    "'''px_df'''"
   ]
  },
  {
   "cell_type": "markdown",
   "id": "polished-option",
   "metadata": {},
   "source": [
    "### Old Implementation (known TIFF)"
   ]
  },
  {
   "cell_type": "code",
   "execution_count": null,
   "id": "dental-aurora",
   "metadata": {},
   "outputs": [],
   "source": [
    "obj=Post_Process('D:/building_tile.tif', addr_loc, coco_file)\n",
    "mask, geo_df_full = obj.get_full_post_process()\n",
    "final_pred_img, building_df = obj.zoom_in(pred_tile, 90)\n",
    "\n",
    "\n",
    "geo_df_full.drop(['points'], axis=1, inplace=True)\n",
    "geo_df_full.to_file(\"new_geo_df_full.geojson\", driver='GeoJSON')"
   ]
  },
  {
   "cell_type": "code",
   "execution_count": null,
   "id": "popular-record",
   "metadata": {},
   "outputs": [],
   "source": [
    "final_pred_img"
   ]
  },
  {
   "cell_type": "code",
   "execution_count": null,
   "id": "pharmaceutical-network",
   "metadata": {},
   "outputs": [],
   "source": []
  },
  {
   "cell_type": "code",
   "execution_count": null,
   "id": "owned-pillow",
   "metadata": {},
   "outputs": [],
   "source": [
    "geo_df_full_c = geo_df_full.copy()\n",
    "geo_df_full_c = geo_df_full_c.to_crs(5703)\n",
    "polygon_index = geo_df_full_c.distance(point).sort_values().index[0]\n",
    "print(polygon_index)\n",
    "print(point)"
   ]
  },
  {
   "cell_type": "code",
   "execution_count": null,
   "id": "informative-grass",
   "metadata": {},
   "outputs": [],
   "source": [
    "for poly in orig_gdf.geometry:\n",
    "    if point.within(poly):\n",
    "        print('hello')"
   ]
  },
  {
   "cell_type": "code",
   "execution_count": null,
   "id": "present-beads",
   "metadata": {},
   "outputs": [],
   "source": [
    "geo_df_full.geometry.plot()"
   ]
  },
  {
   "cell_type": "code",
   "execution_count": null,
   "id": "fatty-logistics",
   "metadata": {},
   "outputs": [],
   "source": [
    "geo_df_full.iloc[19].geometry, geo_df_full.iloc[19]['area(square meter)'], geo_df_full.iloc[19]['Roof_Azimuth']"
   ]
  },
  {
   "cell_type": "code",
   "execution_count": null,
   "id": "synthetic-plymouth",
   "metadata": {},
   "outputs": [],
   "source": []
  },
  {
   "cell_type": "code",
   "execution_count": null,
   "id": "hired-preparation",
   "metadata": {},
   "outputs": [],
   "source": [
    "plt.imshow(final_pred_img)"
   ]
  },
  {
   "cell_type": "code",
   "execution_count": null,
   "id": "stable-venue",
   "metadata": {},
   "outputs": [],
   "source": [
    "plt.imshow(mask, cmap='gray')"
   ]
  },
  {
   "cell_type": "code",
   "execution_count": null,
   "id": "brown-spoke",
   "metadata": {},
   "outputs": [],
   "source": [
    "geo_df_full.geometry.plot()"
   ]
  }
 ],
 "metadata": {
  "kernelspec": {
   "display_name": "Python [conda env:.conda-omdena_energy]",
   "language": "python",
   "name": "conda-env-.conda-omdena_energy-py"
  },
  "language_info": {
   "codemirror_mode": {
    "name": "ipython",
    "version": 3
   },
   "file_extension": ".py",
   "mimetype": "text/x-python",
   "name": "python",
   "nbconvert_exporter": "python",
   "pygments_lexer": "ipython3",
   "version": "3.7.9"
  }
 },
 "nbformat": 4,
 "nbformat_minor": 5
}
