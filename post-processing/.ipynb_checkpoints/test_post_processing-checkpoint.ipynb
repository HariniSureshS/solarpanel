{
 "cells": [
  {
   "cell_type": "code",
   "execution_count": 2,
   "id": "miniature-marina",
   "metadata": {},
   "outputs": [
    {
     "name": "stderr",
     "output_type": "stream",
     "text": [
      "C:\\Users\\rasha\\.conda\\envs\\omdena_energy\\lib\\site-packages\\tensorflow\\python\\framework\\dtypes.py:526: FutureWarning: Passing (type, 1) or '1type' as a synonym of type is deprecated; in a future version of numpy, it will be understood as (type, (1,)) / '(1,)type'.\n",
      "  _np_qint8 = np.dtype([(\"qint8\", np.int8, 1)])\n",
      "C:\\Users\\rasha\\.conda\\envs\\omdena_energy\\lib\\site-packages\\tensorflow\\python\\framework\\dtypes.py:527: FutureWarning: Passing (type, 1) or '1type' as a synonym of type is deprecated; in a future version of numpy, it will be understood as (type, (1,)) / '(1,)type'.\n",
      "  _np_quint8 = np.dtype([(\"quint8\", np.uint8, 1)])\n",
      "C:\\Users\\rasha\\.conda\\envs\\omdena_energy\\lib\\site-packages\\tensorflow\\python\\framework\\dtypes.py:528: FutureWarning: Passing (type, 1) or '1type' as a synonym of type is deprecated; in a future version of numpy, it will be understood as (type, (1,)) / '(1,)type'.\n",
      "  _np_qint16 = np.dtype([(\"qint16\", np.int16, 1)])\n",
      "C:\\Users\\rasha\\.conda\\envs\\omdena_energy\\lib\\site-packages\\tensorflow\\python\\framework\\dtypes.py:529: FutureWarning: Passing (type, 1) or '1type' as a synonym of type is deprecated; in a future version of numpy, it will be understood as (type, (1,)) / '(1,)type'.\n",
      "  _np_quint16 = np.dtype([(\"quint16\", np.uint16, 1)])\n",
      "C:\\Users\\rasha\\.conda\\envs\\omdena_energy\\lib\\site-packages\\tensorflow\\python\\framework\\dtypes.py:530: FutureWarning: Passing (type, 1) or '1type' as a synonym of type is deprecated; in a future version of numpy, it will be understood as (type, (1,)) / '(1,)type'.\n",
      "  _np_qint32 = np.dtype([(\"qint32\", np.int32, 1)])\n",
      "C:\\Users\\rasha\\.conda\\envs\\omdena_energy\\lib\\site-packages\\tensorflow\\python\\framework\\dtypes.py:535: FutureWarning: Passing (type, 1) or '1type' as a synonym of type is deprecated; in a future version of numpy, it will be understood as (type, (1,)) / '(1,)type'.\n",
      "  np_resource = np.dtype([(\"resource\", np.ubyte, 1)])\n"
     ]
    }
   ],
   "source": [
    "%config Completer.use_jedi = False\n",
    "from solaris.data import data_dir\n",
    "import solaris as sol\n",
    "import os\n",
    "import skimage\n",
    "import geopandas as gpd\n",
    "from matplotlib import pyplot as plt\n",
    "from shapely.ops import cascaded_union\n",
    "import cv2\n",
    "import rasterio as rio\n",
    "import pycocotools.mask as mask_util\n",
    "import shapely\n",
    "import math"
   ]
  },
  {
   "cell_type": "code",
   "execution_count": 3,
   "id": "vertical-texas",
   "metadata": {},
   "outputs": [],
   "source": [
    "from post_processing_pipeline import Post_Process"
   ]
  },
  {
   "cell_type": "code",
   "execution_count": 4,
   "id": "hidden-violin",
   "metadata": {},
   "outputs": [],
   "source": [
    "# Test our pipeline\n",
    "img_name = 'SN4_buildings_train_AOI_6_Atlanta_nadir7_catid_1030010003D22F00_PS-RGBNIR_741251_3742239.tif'\n",
    "data_dir = 'D:/SpaceNet_TrainData/train/AOI_6_Atlanta/Atlanta_tif'\n",
    "image = rio.open(os.path.join(data_dir, 'SN4_buildings_train_AOI_6_Atlanta_nadir7_catid_1030010003D22F00_PS-RGBNIR_741251_3742239.tif'))\n",
    "coco_file = 'D:/coco_instances_results (2).json'\n"
   ]
  },
  {
   "cell_type": "code",
   "execution_count": 5,
   "id": "vertical-lawsuit",
   "metadata": {},
   "outputs": [],
   "source": [
    "obj=Post_Process(coco_file, image, img_name, 0.6)\n",
    "mask = obj.get_full_post_process()\n",
    "\n",
    "mask, geo_df_full = obj.get_full_post_process()"
   ]
  },
  {
   "cell_type": "code",
   "execution_count": 7,
   "id": "wanted-effort",
   "metadata": {},
   "outputs": [],
   "source": [
    "# Save the results in a json format\n",
    "obj.append_to_json('D:/hello_json.json')"
   ]
  },
  {
   "cell_type": "code",
   "execution_count": 6,
   "id": "induced-summary",
   "metadata": {},
   "outputs": [
    {
     "data": {
      "text/plain": [
       "316.9206268219927"
      ]
     },
     "execution_count": 6,
     "metadata": {},
     "output_type": "execute_result"
    }
   ],
   "source": [
    "geo_df_full.iloc[0].geometry.area"
   ]
  },
  {
   "cell_type": "code",
   "execution_count": 11,
   "id": "competitive-ranch",
   "metadata": {},
   "outputs": [
    {
     "data": {
      "text/plain": [
       "<matplotlib.image.AxesImage at 0x1fc53b93588>"
      ]
     },
     "execution_count": 11,
     "metadata": {},
     "output_type": "execute_result"
    },
    {
     "data": {
      "image/png": "[encoded data removed]",
      "text/plain": [
       "<Figure size 432x288 with 1 Axes>"
      ]
     },
     "metadata": {
      "needs_background": "light"
     },
     "output_type": "display_data"
    }
   ],
   "source": [
    "plt.imshow(mask)"
   ]
  },
  {
   "cell_type": "code",
   "execution_count": null,
   "id": "desperate-secondary",
   "metadata": {},
   "outputs": [],
   "source": []
  }
 ],
 "metadata": {
  "kernelspec": {
   "display_name": "Python [conda env:.conda-omdena_energy]",
   "language": "python",
   "name": "conda-env-.conda-omdena_energy-py"
  },
  "language_info": {
   "codemirror_mode": {
    "name": "ipython",
    "version": 3
   },
   "file_extension": ".py",
   "mimetype": "text/x-python",
   "name": "python",
   "nbconvert_exporter": "python",
   "pygments_lexer": "ipython3",
   "version": "3.7.9"
  }
 },
 "nbformat": 4,
 "nbformat_minor": 5
}
