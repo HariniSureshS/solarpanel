{
 "cells": [
  {
   "cell_type": "code",
   "execution_count": 3,
   "id": "miniature-marina",
   "metadata": {},
   "outputs": [],
   "source": [
    "%config Completer.use_jedi = False\n",
    "import os\n",
    "import skimage\n",
    "import geopandas as gpd\n",
    "from matplotlib import pyplot as plt\n",
    "from shapely.ops import cascaded_union\n",
    "import cv2\n",
    "import rasterio as rio\n",
    "import pycocotools.mask as mask_util\n",
    "import shapely\n",
    "import math\n",
    "from PIL import Image"
   ]
  },
  {
   "cell_type": "code",
   "execution_count": 1,
   "id": "vertical-texas",
   "metadata": {},
   "outputs": [],
   "source": [
    "from post_processing_pipeline import Post_Process"
   ]
  },
  {
   "cell_type": "code",
   "execution_count": 4,
   "id": "hidden-violin",
   "metadata": {},
   "outputs": [],
   "source": [
    "# Test our pipeline\n",
    "img_name = 'SN2_buildings_train_AOI_2_Vegas_PS-RGB_img101.tif'\n",
    "data_dir = 'D:/SpaceNet_TrainData/train/AOI_2_Vegas/Vegas_tif/'\n",
    "image = rio.open(os.path.join(data_dir, img_name))\n",
    "coco_file = 'D:/coco_instances_results (3).json'\n"
   ]
  },
  {
   "cell_type": "code",
   "execution_count": 5,
   "id": "vertical-lawsuit",
   "metadata": {},
   "outputs": [],
   "source": [
    "obj=Post_Process(coco_file, image, img_name, 0.5)\n",
    "mask, geo_df_full = obj.get_full_post_process()\n",
    "geo_df_full.drop(['points'], axis=1, inplace=True)\n",
    "geo_df_full.to_file(\"new_geo_df_full.shp\")"
   ]
  },
  {
   "cell_type": "code",
   "execution_count": 6,
   "id": "played-heaven",
   "metadata": {},
   "outputs": [
    {
     "data": {
      "image/png": "[encoded data removed]",
      "text/plain": [
       "<Figure size 432x288 with 1 Axes>"
      ]
     },
     "metadata": {
      "needs_background": "light"
     },
     "output_type": "display_data"
    }
   ],
   "source": [
    "plt.imshow(mask, cmap='gray')\n",
    "new_p = Image.fromarray(mask)\n",
    "if new_p.mode != 'RGB':\n",
    "    new_p = new_p.convert('RGB')\n",
    "    \n",
    "new_p.save('mask_imag.jpg')\n"
   ]
  },
  {
   "cell_type": "code",
   "execution_count": 6,
   "id": "wanted-effort",
   "metadata": {},
   "outputs": [],
   "source": [
    "# Save the results in a json format\n",
    "obj.append_to_json('D:/coco_instances_results (3)_results.json')\n",
    "obj.save_to_csv('D:/coco_instances_results (3)_results.csv')"
   ]
  },
  {
   "cell_type": "markdown",
   "id": "certain-receptor",
   "metadata": {},
   "source": [
    "## Mask out the roof tops from the image"
   ]
  },
  {
   "cell_type": "code",
   "execution_count": 7,
   "id": "acceptable-spray",
   "metadata": {},
   "outputs": [],
   "source": [
    "import rasterio\n",
    "import rasterio.mask\n",
    "import fiona"
   ]
  },
  {
   "cell_type": "code",
   "execution_count": 13,
   "id": "colonial-anniversary",
   "metadata": {},
   "outputs": [],
   "source": [
    "# read the image\n",
    "dataset = rasterio.open(os.path.join(data_dir, img_name))"
   ]
  },
  {
   "cell_type": "code",
   "execution_count": 14,
   "id": "eligible-thesis",
   "metadata": {},
   "outputs": [],
   "source": [
    "with fiona.open(\"C:/Users/rasha/OneDrive/Documents/GitHub/good3energy/post-processing/new_geo_df_full.shp\", \"r\") as shapefile:\n",
    "    shapes = [feature[\"geometry\"] for feature in shapefile]"
   ]
  },
  {
   "cell_type": "code",
   "execution_count": 15,
   "id": "outside-sussex",
   "metadata": {},
   "outputs": [],
   "source": [
    "with rasterio.open(os.path.join(data_dir, img_name)) as src:\n",
    "    out_image, out_transform = rasterio.mask.mask(src, shapes)\n",
    "crop= out_meta = src.meta\n",
    "\n",
    "out_meta.update({\"driver\": \"GTiff\",\n",
    "                 \"height\": out_image.shape[1],\n",
    "                 \"width\": out_image.shape[2],\n",
    "                 \"transform\": out_transform})\n",
    "\n",
    "with rasterio.open(\"RGB.byte.masked.tif\", \"w\", **out_meta) as dest:\n",
    "    dest.write(out_image)"
   ]
  },
  {
   "cell_type": "code",
   "execution_count": null,
   "id": "pretty-hygiene",
   "metadata": {},
   "outputs": [],
   "source": []
  },
  {
   "cell_type": "code",
   "execution_count": 16,
   "id": "german-christian",
   "metadata": {},
   "outputs": [],
   "source": [
    "out_img=rasterio.open('RGB.byte.masked.tif').read(1)"
   ]
  },
  {
   "cell_type": "code",
   "execution_count": 17,
   "id": "alike-investigation",
   "metadata": {},
   "outputs": [
    {
     "data": {
      "text/plain": [
       "<matplotlib.image.AxesImage at 0x272e593d1c8>"
      ]
     },
     "execution_count": 17,
     "metadata": {},
     "output_type": "execute_result"
    },
    {
     "data": {
      "image/png": "[encoded data removed]",
      "text/plain": [
       "<Figure size 432x288 with 1 Axes>"
      ]
     },
     "metadata": {
      "needs_background": "light"
     },
     "output_type": "display_data"
    }
   ],
   "source": [
    "plt.imshow(out_img)"
   ]
  },
  {
   "cell_type": "code",
   "execution_count": 18,
   "id": "freelance-passing",
   "metadata": {},
   "outputs": [],
   "source": [
    "def get_rgb(raster_img):\n",
    "    '''\n",
    "      takes a path contaioning mas image \n",
    "      and returns the rgb version\n",
    "      '''\n",
    "    red = rio.open(raster_img).read(3) \n",
    "    green = rio.open(raster_img).read(2) \n",
    "    blue = rio.open(raster_img).read(1) \n",
    " \n",
    "    rgb = np.dstack((red, green, blue))\n",
    "    # normalize and convert to range 0-255\n",
    "    rgb = ((rgb - rgb.min()) / (rgb.max() - rgb.min()) * 255).astype('uint8')\n",
    "    ## Enhance the light\n",
    "    img = Image.fromarray(rgb)\n",
    "    enhancer = ImageEnhance.Brightness(img)\n",
    "    factor = 2.5 #gives original image\n",
    "    im_output = enhancer.enhance(factor)\n",
    "    return im_output"
   ]
  },
  {
   "cell_type": "code",
   "execution_count": 19,
   "id": "interpreted-yemen",
   "metadata": {},
   "outputs": [],
   "source": [
    "import numpy as np\n",
    "from PIL import Image, ImageEnhance\n",
    "img = get_rgb('RGB.byte.masked.tif')"
   ]
  },
  {
   "cell_type": "code",
   "execution_count": 20,
   "id": "lucky-voluntary",
   "metadata": {},
   "outputs": [
    {
     "data": {
      "text/plain": [
       "<matplotlib.image.AxesImage at 0x272e5d2d348>"
      ]
     },
     "execution_count": 20,
     "metadata": {},
     "output_type": "execute_result"
    },
    {
     "data": {
      "image/png": "[encoded data removed]",
      "text/plain": [
       "<Figure size 432x288 with 1 Axes>"
      ]
     },
     "metadata": {
      "needs_background": "light"
     },
     "output_type": "display_data"
    }
   ],
   "source": [
    "plt.imshow(img)"
   ]
  },
  {
   "cell_type": "markdown",
   "id": "nuclear-estonia",
   "metadata": {},
   "source": [
    "https://gist.github.com/urschrei/a391f6e18a551f8cbfec377903920eca"
   ]
  },
  {
   "cell_type": "code",
   "execution_count": null,
   "id": "tribal-domestic",
   "metadata": {},
   "outputs": [],
   "source": []
  }
 ],
 "metadata": {
  "kernelspec": {
   "display_name": "Python [conda env:.conda-omdena_energy]",
   "language": "python",
   "name": "conda-env-.conda-omdena_energy-py"
  },
  "language_info": {
   "codemirror_mode": {
    "name": "ipython",
    "version": 3
   },
   "file_extension": ".py",
   "mimetype": "text/x-python",
   "name": "python",
   "nbconvert_exporter": "python",
   "pygments_lexer": "ipython3",
   "version": "3.7.9"
  }
 },
 "nbformat": 4,
 "nbformat_minor": 5
}
