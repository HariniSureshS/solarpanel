{
 "cells": [
  {
   "cell_type": "markdown",
   "metadata": {},
   "source": [
    "This is the begining of edge detection for the buildings roof\n",
    "1- Mask out the buildings from the image using the GeoJson\n",
    "2- Save as an RGB image.\n",
    "3- Prform the Canny edge detection algorithm."
   ]
  },
  {
   "cell_type": "code",
   "execution_count": 11,
   "metadata": {},
   "outputs": [],
   "source": [
    "import rasterio as rio\n",
    "import fiona\n",
    "import rasterio.mask\n",
    "import cv2\n",
    "import numpy as np\n",
    "from matplotlib import pyplot as plt\n",
    "from PIL import Image, ImageEnhance"
   ]
  },
  {
   "cell_type": "code",
   "execution_count": 2,
   "metadata": {},
   "outputs": [],
   "source": [
    "def mask_buildings(raster_path, geoson_path, mask_path):\n",
    "    '''\n",
    "    Takes the paths for a raster image  and a geoJson mask\n",
    "    '''\n",
    "    # Get the geoJson mask and the raster image\n",
    "    with fiona.open(geoson_path, 'r') as gdf:\n",
    "         polys = [feature[\"geometry\"] for feature in gdf]\n",
    "    \n",
    "    with rio.open(raster_path) as src:\n",
    "        out_image, out_transform = rasterio.mask.mask(src, polys, crop=True)\n",
    "        out_meta = src.meta\n",
    "    \n",
    "    # Save the new masked image    \n",
    "    out_meta.update({ \"driver\": \"GTiff\",\n",
    "                    \"height\": out_image.shape[1],\n",
    "                    \"width\": out_image.shape[2],\n",
    "                    \"transform\": out_transform})\n",
    "\n",
    "    with rasterio.open(mask_path, \"w\", **out_meta) as dest:\n",
    "        dest.write(out_image)\n",
    "\n",
    "\n",
    "def save_rgb_mask(raster_img):\n",
    "    with rio.open(raster_img) as img:\n",
    "        red = img.read(2)\n",
    "        green = img.read(4)\n",
    "        blue = img.read(3)\n",
    "    rgb = np.dstack((red, green, blue))\n",
    "    rgb = (255.0 / rgb.max() * (rgb - rgb.min())).astype(np.uint8)\n",
    "    img = Image.fromarray(rgb)\n",
    "    img.save(raster_img[:-4] + '.png')\n",
    "\n",
    "    "
   ]
  },
  {
   "cell_type": "code",
   "execution_count": 9,
   "metadata": {},
   "outputs": [],
   "source": [
    "raster_path = 'D:/SpaceNet_Sample/Atlanta_nadir7_catid_1030010003D22F00/Pan-Sharpen/Pan-Sharpen_Atlanta_nadir7_catid_1030010003D22F00_733601_3724689.tif'\n",
    "geoJson_path = 'D:/SpaceNet_Sample/geojson/spacenet-buildings/spacenet-buildings_733601_3724689.geojson'\n",
    "\n",
    "raster_path = 'D:/SpaceNet_Sample/Atlanta_nadir7_catid_1030010003D22F00/Pan-Sharpen/Pan-Sharpen_Atlanta_nadir7_catid_1030010003D22F00_742601_3727389.tif'\n",
    "geoJson_path = 'D:/SpaceNet_Sample/geojson/spacenet-buildings/spacenet-buildings_742601_3727389.geojson'\n",
    "mask_buildings(raster_path, geoJson_path, 'D:/' + raster_path[-68:-4] + '_masked(2).tif')\n",
    "\n",
    "save_rgb_mask('D:/' + raster_path[-68:-4] + '_masked(2).tif')"
   ]
  },
  {
   "cell_type": "code",
   "execution_count": 13,
   "metadata": {},
   "outputs": [],
   "source": [
    "img = Image.open('D:/' + raster_path[-68:-4] + '_masked(2).png')\n",
    "#img = Image.open('D:/' + raster_path[-68:-4] + '_edges.png')\n",
    "\n",
    "## Enhance the light\n",
    "enhancer = ImageEnhance.Brightness(img)\n",
    "factor = 2 #gives original image\n",
    "im_output = enhancer.enhance(factor)\n",
    "im_output.save('D:/' + raster_path[-68:-4] + '_masked(2).png')\n",
    "#################################################\n",
    "# Any edges with intensity gradient more than maxVal are sure to be edges\n",
    "# Below minVal are sure to be non-edges\n"
   ]
  },
  {
   "cell_type": "code",
   "execution_count": 30,
   "metadata": {},
   "outputs": [
    {
     "data": {
      "image/png": "[encoded data removed]",
      "text/plain": [
       "<Figure size 432x288 with 2 Axes>"
      ]
     },
     "metadata": {},
     "output_type": "display_data"
    }
   ],
   "source": [
    "\n",
    "img = cv2.imread('D:/' + raster_path[-68:-4] + '_masked(2).png')\n",
    "min_val = 200\n",
    "max_val = 250\n",
    "edges = cv2.Canny(img, min_val, max_val)\n",
    "\n",
    "plt.subplot(121), plt.imshow(img_clahe, cmap='gray')\n",
    "plt.title('Original Image'), plt.xticks([]), plt.yticks([])\n",
    "plt.subplot(122),plt.imshow(edges,cmap = 'gray')\n",
    "plt.title('Edge Image'), plt.xticks([]), plt.yticks([])\n",
    "\n",
    "plt.show()\n",
    "# Save the edge image\n",
    "img = Image.fromarray(edges)\n",
    "img.save('D:/' + raster_path[-68:-4] + '_edges(2).png')"
   ]
  },
  {
   "cell_type": "code",
   "execution_count": 14,
   "metadata": {},
   "outputs": [
    {
     "data": {
      "text/plain": [
       "\"# Creating maxican hat filter\\nfilter = np.array([[0,0,-1,0,0],[0,-1,-2,-1,0],[-1,-2,16,-2,-1],[0,-1,-2,-1,0],[0,0,-1,0,0]])\\n# Applying cv2.filter2D function on our Cybertruck image\\nmexican_hat_img1=cv2.filter2D(img_clahe,-1,filter)\\nplt.imshow(mexican_hat_img1)\\n# Save the edge image\\nimg = Image.fromarray(mexican_hat_img1)\\nimg.save('D:/' + raster_path[-68:-4] + '_edges.png')\""
      ]
     },
     "execution_count": 14,
     "metadata": {},
     "output_type": "execute_result"
    }
   ],
   "source": [
    "'''# Creating maxican hat filter\n",
    "filter = np.array([[0,0,-1,0,0],[0,-1,-2,-1,0],[-1,-2,16,-2,-1],[0,-1,-2,-1,0],[0,0,-1,0,0]])\n",
    "# Applying cv2.filter2D function on our Cybertruck image\n",
    "mexican_hat_img1=cv2.filter2D(img_clahe,-1,filter)\n",
    "plt.imshow(mexican_hat_img1)\n",
    "# Save the edge image\n",
    "img = Image.fromarray(mexican_hat_img1)\n",
    "img.save('D:/' + raster_path[-68:-4] + '_edges.png')'''"
   ]
  },
  {
   "cell_type": "code",
   "execution_count": 17,
   "metadata": {},
   "outputs": [
    {
     "data": {
      "text/plain": [
       "\"'# Creating our emboss filter\\nfilter = np.array([[0,1,0],[0,0,0],[0,-1,0]])\\n# Applying cv2.filter2D function on our Logo image\\nemboss_img_1=cv2.filter2D(img_clahe,-1,filter)\\nemboss_img_1=emboss_img_1+128\\nplt.imshow(emboss_img_1)\\n# Save the edge image\\nimg = Image.fromarray(emboss_img_1)\\nimg.save('D:/' + raster_path[-68:-4] + '_edges.png')\""
      ]
     },
     "execution_count": 17,
     "metadata": {},
     "output_type": "execute_result"
    }
   ],
   "source": [
    "''''# Creating our emboss filter\n",
    "filter = np.array([[0,1,0],[0,0,0],[0,-1,0]])\n",
    "# Applying cv2.filter2D function on our Logo image\n",
    "emboss_img_1=cv2.filter2D(img_clahe,-1,filter)\n",
    "emboss_img_1=emboss_img_1+128\n",
    "plt.imshow(emboss_img_1)\n",
    "# Save the edge image\n",
    "img = Image.fromarray(emboss_img_1)\n",
    "img.save('D:/' + raster_path[-68:-4] + '_edges.png')'''"
   ]
  },
  {
   "cell_type": "markdown",
   "metadata": {},
   "source": [
    "# Reference\n",
    "- https://opencv-python-tutroals.readthedocs.io/en/latest/py_tutorials/py_imgproc/py_canny/py_canny.html"
   ]
  },
  {
   "cell_type": "code",
   "execution_count": null,
   "metadata": {},
   "outputs": [],
   "source": []
  }
 ],
 "metadata": {
  "kernelspec": {
   "display_name": "omdena_malaria",
   "language": "python",
   "name": "omdena_malaria"
  },
  "language_info": {
   "codemirror_mode": {
    "name": "ipython",
    "version": 3
   },
   "file_extension": ".py",
   "mimetype": "text/x-python",
   "name": "python",
   "nbconvert_exporter": "python",
   "pygments_lexer": "ipython3",
   "version": "3.8.5"
  }
 },
 "nbformat": 4,
 "nbformat_minor": 4
}
