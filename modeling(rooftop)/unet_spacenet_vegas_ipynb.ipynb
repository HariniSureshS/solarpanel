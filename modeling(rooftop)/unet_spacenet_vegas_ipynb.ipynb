{
  "nbformat": 4,
  "nbformat_minor": 0,
  "metadata": {
    "kernelspec": {
      "language": "python",
      "display_name": "Python 3",
      "name": "python3"
    },
    "language_info": {
      "pygments_lexer": "ipython3",
      "nbconvert_exporter": "python",
      "version": "3.6.4",
      "file_extension": ".py",
      "codemirror_mode": {
        "name": "ipython",
        "version": 3
      },
      "name": "python",
      "mimetype": "text/x-python"
    },
    "colab": {
      "name": "unet-spacenet-vegas-ipynb.ipynb",
      "provenance": []
    },
    "widgets": {
      "application/vnd.jupyter.widget-state+json": {
        "8891056a7a9e4ca08137991fdb4dfd58": {
          "model_module": "@jupyter-widgets/controls",
          "model_name": "HBoxModel",
          "state": {
            "_view_name": "HBoxView",
            "_dom_classes": [],
            "_model_name": "HBoxModel",
            "_view_module": "@jupyter-widgets/controls",
            "_model_module_version": "1.5.0",
            "_view_count": null,
            "_view_module_version": "1.5.0",
            "box_style": "",
            "layout": "IPY_MODEL_d4c75cb1fb8c4ff884a2a998321658d1",
            "_model_module": "@jupyter-widgets/controls",
            "children": [
              "IPY_MODEL_8bdde8f7e1c14e84b381dc0078c568c8",
              "IPY_MODEL_b880a3499c524cbeb63c3e4d12c2dfd7",
              "IPY_MODEL_c90b10d6d94640cb956873275dd610f8"
            ]
          }
        },
        "d4c75cb1fb8c4ff884a2a998321658d1": {
          "model_module": "@jupyter-widgets/base",
          "model_name": "LayoutModel",
          "state": {
            "_view_name": "LayoutView",
            "grid_template_rows": null,
            "right": null,
            "justify_content": null,
            "_view_module": "@jupyter-widgets/base",
            "overflow": null,
            "_model_module_version": "1.2.0",
            "_view_count": null,
            "flex_flow": null,
            "width": null,
            "min_width": null,
            "border": null,
            "align_items": null,
            "bottom": null,
            "_model_module": "@jupyter-widgets/base",
            "top": null,
            "grid_column": null,
            "overflow_y": null,
            "overflow_x": null,
            "grid_auto_flow": null,
            "grid_area": null,
            "grid_template_columns": null,
            "flex": null,
            "_model_name": "LayoutModel",
            "justify_items": null,
            "grid_row": null,
            "max_height": null,
            "align_content": null,
            "visibility": null,
            "align_self": null,
            "height": null,
            "min_height": null,
            "padding": null,
            "grid_auto_rows": null,
            "grid_gap": null,
            "max_width": null,
            "order": null,
            "_view_module_version": "1.2.0",
            "grid_template_areas": null,
            "object_position": null,
            "object_fit": null,
            "grid_auto_columns": null,
            "margin": null,
            "display": null,
            "left": null
          }
        },
        "8bdde8f7e1c14e84b381dc0078c568c8": {
          "model_module": "@jupyter-widgets/controls",
          "model_name": "HTMLModel",
          "state": {
            "_view_name": "HTMLView",
            "style": "IPY_MODEL_bf1e61bbf6f846848990c895eec412f4",
            "_dom_classes": [],
            "description": "",
            "_model_name": "HTMLModel",
            "placeholder": "​",
            "_view_module": "@jupyter-widgets/controls",
            "_model_module_version": "1.5.0",
            "value": "100%",
            "_view_count": null,
            "_view_module_version": "1.5.0",
            "description_tooltip": null,
            "_model_module": "@jupyter-widgets/controls",
            "layout": "IPY_MODEL_f027a35da13045ed87ee9b7d7a8923c9"
          }
        },
        "b880a3499c524cbeb63c3e4d12c2dfd7": {
          "model_module": "@jupyter-widgets/controls",
          "model_name": "FloatProgressModel",
          "state": {
            "_view_name": "ProgressView",
            "style": "IPY_MODEL_32a28090de454307bd9511aba399d84f",
            "_dom_classes": [],
            "description": "",
            "_model_name": "FloatProgressModel",
            "bar_style": "success",
            "max": 102502400,
            "_view_module": "@jupyter-widgets/controls",
            "_model_module_version": "1.5.0",
            "value": 102502400,
            "_view_count": null,
            "_view_module_version": "1.5.0",
            "orientation": "horizontal",
            "min": 0,
            "description_tooltip": null,
            "_model_module": "@jupyter-widgets/controls",
            "layout": "IPY_MODEL_3804ec263f9e46638f936d7462bab4b7"
          }
        },
        "c90b10d6d94640cb956873275dd610f8": {
          "model_module": "@jupyter-widgets/controls",
          "model_name": "HTMLModel",
          "state": {
            "_view_name": "HTMLView",
            "style": "IPY_MODEL_b450edd407394c019a42f26f65f1c812",
            "_dom_classes": [],
            "description": "",
            "_model_name": "HTMLModel",
            "placeholder": "​",
            "_view_module": "@jupyter-widgets/controls",
            "_model_module_version": "1.5.0",
            "value": " 97.8M/97.8M [20:52&lt;00:00, 81.8kB/s]",
            "_view_count": null,
            "_view_module_version": "1.5.0",
            "description_tooltip": null,
            "_model_module": "@jupyter-widgets/controls",
            "layout": "IPY_MODEL_e9db1209611c495ba11d3a95a0eb2cba"
          }
        },
        "bf1e61bbf6f846848990c895eec412f4": {
          "model_module": "@jupyter-widgets/controls",
          "model_name": "DescriptionStyleModel",
          "state": {
            "_view_name": "StyleView",
            "_model_name": "DescriptionStyleModel",
            "description_width": "",
            "_view_module": "@jupyter-widgets/base",
            "_model_module_version": "1.5.0",
            "_view_count": null,
            "_view_module_version": "1.2.0",
            "_model_module": "@jupyter-widgets/controls"
          }
        },
        "f027a35da13045ed87ee9b7d7a8923c9": {
          "model_module": "@jupyter-widgets/base",
          "model_name": "LayoutModel",
          "state": {
            "_view_name": "LayoutView",
            "grid_template_rows": null,
            "right": null,
            "justify_content": null,
            "_view_module": "@jupyter-widgets/base",
            "overflow": null,
            "_model_module_version": "1.2.0",
            "_view_count": null,
            "flex_flow": null,
            "width": null,
            "min_width": null,
            "border": null,
            "align_items": null,
            "bottom": null,
            "_model_module": "@jupyter-widgets/base",
            "top": null,
            "grid_column": null,
            "overflow_y": null,
            "overflow_x": null,
            "grid_auto_flow": null,
            "grid_area": null,
            "grid_template_columns": null,
            "flex": null,
            "_model_name": "LayoutModel",
            "justify_items": null,
            "grid_row": null,
            "max_height": null,
            "align_content": null,
            "visibility": null,
            "align_self": null,
            "height": null,
            "min_height": null,
            "padding": null,
            "grid_auto_rows": null,
            "grid_gap": null,
            "max_width": null,
            "order": null,
            "_view_module_version": "1.2.0",
            "grid_template_areas": null,
            "object_position": null,
            "object_fit": null,
            "grid_auto_columns": null,
            "margin": null,
            "display": null,
            "left": null
          }
        },
        "32a28090de454307bd9511aba399d84f": {
          "model_module": "@jupyter-widgets/controls",
          "model_name": "ProgressStyleModel",
          "state": {
            "_view_name": "StyleView",
            "_model_name": "ProgressStyleModel",
            "description_width": "",
            "_view_module": "@jupyter-widgets/base",
            "_model_module_version": "1.5.0",
            "_view_count": null,
            "_view_module_version": "1.2.0",
            "bar_color": null,
            "_model_module": "@jupyter-widgets/controls"
          }
        },
        "3804ec263f9e46638f936d7462bab4b7": {
          "model_module": "@jupyter-widgets/base",
          "model_name": "LayoutModel",
          "state": {
            "_view_name": "LayoutView",
            "grid_template_rows": null,
            "right": null,
            "justify_content": null,
            "_view_module": "@jupyter-widgets/base",
            "overflow": null,
            "_model_module_version": "1.2.0",
            "_view_count": null,
            "flex_flow": null,
            "width": null,
            "min_width": null,
            "border": null,
            "align_items": null,
            "bottom": null,
            "_model_module": "@jupyter-widgets/base",
            "top": null,
            "grid_column": null,
            "overflow_y": null,
            "overflow_x": null,
            "grid_auto_flow": null,
            "grid_area": null,
            "grid_template_columns": null,
            "flex": null,
            "_model_name": "LayoutModel",
            "justify_items": null,
            "grid_row": null,
            "max_height": null,
            "align_content": null,
            "visibility": null,
            "align_self": null,
            "height": null,
            "min_height": null,
            "padding": null,
            "grid_auto_rows": null,
            "grid_gap": null,
            "max_width": null,
            "order": null,
            "_view_module_version": "1.2.0",
            "grid_template_areas": null,
            "object_position": null,
            "object_fit": null,
            "grid_auto_columns": null,
            "margin": null,
            "display": null,
            "left": null
          }
        },
        "b450edd407394c019a42f26f65f1c812": {
          "model_module": "@jupyter-widgets/controls",
          "model_name": "DescriptionStyleModel",
          "state": {
            "_view_name": "StyleView",
            "_model_name": "DescriptionStyleModel",
            "description_width": "",
            "_view_module": "@jupyter-widgets/base",
            "_model_module_version": "1.5.0",
            "_view_count": null,
            "_view_module_version": "1.2.0",
            "_model_module": "@jupyter-widgets/controls"
          }
        },
        "e9db1209611c495ba11d3a95a0eb2cba": {
          "model_module": "@jupyter-widgets/base",
          "model_name": "LayoutModel",
          "state": {
            "_view_name": "LayoutView",
            "grid_template_rows": null,
            "right": null,
            "justify_content": null,
            "_view_module": "@jupyter-widgets/base",
            "overflow": null,
            "_model_module_version": "1.2.0",
            "_view_count": null,
            "flex_flow": null,
            "width": null,
            "min_width": null,
            "border": null,
            "align_items": null,
            "bottom": null,
            "_model_module": "@jupyter-widgets/base",
            "top": null,
            "grid_column": null,
            "overflow_y": null,
            "overflow_x": null,
            "grid_auto_flow": null,
            "grid_area": null,
            "grid_template_columns": null,
            "flex": null,
            "_model_name": "LayoutModel",
            "justify_items": null,
            "grid_row": null,
            "max_height": null,
            "align_content": null,
            "visibility": null,
            "align_self": null,
            "height": null,
            "min_height": null,
            "padding": null,
            "grid_auto_rows": null,
            "grid_gap": null,
            "max_width": null,
            "order": null,
            "_view_module_version": "1.2.0",
            "grid_template_areas": null,
            "object_position": null,
            "object_fit": null,
            "grid_auto_columns": null,
            "margin": null,
            "display": null,
            "left": null
          }
        }
      }
    }
  },
  "cells": [
    {
      "cell_type": "code",
      "metadata": {
        "id": "sVm1mpomcpXC",
        "trusted": true
      },
      "source": [
        "%%capture\n",
        "!pip install fastai --upgrade\n",
        "!pip install hub==1.1.1\n",
        "!pip install segmentation-models-pytorch\n",
        "!pip install rasterio\n",
        "# Update the albumentations library\n",
        "!pip install -U git+https://github.com/albu/albumentations --no-cache-dir"
      ],
      "execution_count": null,
      "outputs": []
    },
    {
      "cell_type": "code",
      "metadata": {
        "trusted": true,
        "colab": {
          "base_uri": "https://localhost:8080/",
          "height": 52
        },
        "id": "oCkQi0-O4t2y",
        "outputId": "a1c4cfa4-0e92-44ff-fc57-9f742f69e4ff"
      },
      "source": [
        "'''!conda uninstall pytorch --yes\n",
        "!pip uninstall torch --yes\n",
        "!pip uninstall torch --yes #(just to make sure)\n",
        "\n",
        "!conda install pytorch-nightly cuda92 -c pytorch\n",
        "!conda list\n",
        "!pip list'''"
      ],
      "execution_count": null,
      "outputs": [
        {
          "output_type": "execute_result",
          "data": {
            "application/vnd.google.colaboratory.intrinsic+json": {
              "type": "string"
            },
            "text/plain": [
              "'!conda uninstall pytorch --yes\\n!pip uninstall torch --yes\\n!pip uninstall torch --yes #(just to make sure)\\n\\n!conda install pytorch-nightly cuda92 -c pytorch\\n!conda list\\n!pip list'"
            ]
          },
          "metadata": {
            "tags": []
          },
          "execution_count": 2
        }
      ]
    },
    {
      "cell_type": "code",
      "metadata": {
        "id": "842fzjkAc6rr",
        "trusted": true
      },
      "source": [
        "\n",
        "import matplotlib.pyplot as plt\n",
        "import numpy \n",
        "from fastai.vision.all import *\n",
        "import cv2\n",
        "import hub\n",
        "from hub import Dataset\n",
        "import torch\n",
        "from torch import nn\n",
        "import torch.nn.functional as F\n",
        "from numpy import *\n",
        "import numpy as np\n",
        "import segmentation_models_pytorch as smp\n",
        "from torch.utils.data import Dataset as BaseDataset\n",
        "from torchvision import transforms\n",
        "import albumentations as A"
      ],
      "execution_count": null,
      "outputs": []
    },
    {
      "cell_type": "code",
      "metadata": {
        "id": "UNPs6T0mfIs_",
        "trusted": true
      },
      "source": [
        "# Hekper function to cisualize the images\n",
        "def visualize(**images):\n",
        "    \"\"\"PLot images in one row.\"\"\"\n",
        "    n = len(images)\n",
        "    plt.figure(figsize=(16, 5))\n",
        "    for i, (name, image) in enumerate(images.items()):\n",
        "        plt.subplot(1, n, i + 1)\n",
        "        plt.xticks([])\n",
        "        plt.yticks([])\n",
        "        plt.title(' '.join(name.split('_')).title())\n",
        "        plt.imshow(image)\n",
        "    plt.show()"
      ],
      "execution_count": null,
      "outputs": []
    },
    {
      "cell_type": "code",
      "metadata": {
        "id": "zwpCwczAdLbr",
        "trusted": true
      },
      "source": [
        "# Load data\n",
        "ds = Dataset('rasha/SpaceNet_2_Las_Vegas')\n",
        "\n",
        "# Use .numpy() to get the numpy array of the element\n",
        "# Bands start from 0 here \n",
        "input_img = (ds[\"rgbs\"][1100].numpy()).astype('uint8')\n",
        "mask = (ds[\"masks\"][1100].numpy()).astype('uint8')"
      ],
      "execution_count": null,
      "outputs": []
    },
    {
      "cell_type": "code",
      "metadata": {
        "id": "6HekaKOYfKZx",
        "trusted": true,
        "colab": {
          "base_uri": "https://localhost:8080/",
          "height": 322
        },
        "outputId": "be70205c-c6c0-4761-8f8b-f8be58e4d0cb"
      },
      "source": [
        "visualize(input_ =input_img, mask=mask)"
      ],
      "execution_count": null,
      "outputs": [
        {
          "output_type": "display_data",
          "data": {
            "image/png": "[encoded data removed]",
            "text/plain": [
              "<Figure size 1152x360 with 2 Axes>"
            ]
          },
          "metadata": {
            "tags": []
          }
        }
      ]
    },
    {
      "cell_type": "code",
      "metadata": {
        "id": "NtVvx1ArxlDh",
        "trusted": true
      },
      "source": [
        "# Create custom dataset that accepts 4 channels images\n",
        "from torch.utils.data import Dataset, DataLoader, sampler\n",
        "from pathlib import Path\n",
        "from PIL import Image\n",
        "import matplotlib.pyplot as plt\n",
        "import os\n",
        "import numpy as np\n",
        "from torchvision import transforms, datasets, models\n",
        "# We have two dir: inputs(folder for each image) and tatgets\n",
        "\n",
        "class SpaceNetDataset(BaseDataset):\n",
        "    def __init__(self, dataset, \n",
        "               preprocessing = False,\n",
        "               augmentation=None,\n",
        "               pytorch=True):\n",
        "        super().__init__()\n",
        "        self.samples = ds\n",
        "        self.pytorch = pytorch\n",
        "        self.augmentation = augmentation\n",
        "        self.preprocessing = preprocessing\n",
        "  \n",
        "    def __len__(self):\n",
        "        return len(self.samples)\n",
        "  \n",
        "    def normalize(self, band):\n",
        "        #'''Notmalize a numpy array to have values between 0 and 1'''  \n",
        "        band_min, band_max = band.min(), band.max()\n",
        "        np.seterr(divide='ignore', invalid='ignore')\n",
        "        normalized_band = ((band - band_min)/(band_max - band_min))\n",
        "        #Remove any nan value and subtitute by zero\n",
        "        where_are_NaNs = isnan(normalized_band)\n",
        "        normalized_band[where_are_NaNs] = 0\n",
        "        \n",
        "        return normalized_band\n",
        "    \n",
        "    def open_as_array(self, idx):\n",
        "        # List indivisual bands in each image folder\n",
        "        # Stack them togather\n",
        "        # Self.samples --> samples['inputs'][idx] samples['rgb_inputs'][idx] samples['masks'][idx]\n",
        "       \n",
        "        raw_rgb = self.samples['rgbs'][idx].compute()\n",
        " \n",
        "        if self.augmentation:\n",
        "            # Crop the image or perform other augmentations\n",
        "            transformed = self.augmentation(image = raw_rgb)\n",
        "            raw_rgb  = transformed[\"image\"]\n",
        " \n",
        "        if self.preprocessing:\n",
        "            # transpose to tensor shape\n",
        "            raw_rgb = raw_rgb.transpose((2,0,1))\n",
        "            # Convert to Tensor\n",
        "            raw_rgb = torch.tensor(raw_rgb, dtype=torch.float)\n",
        "            # Normalize the input bands\n",
        "            for i in range(raw_rgb.shape[0]):\n",
        "                raw_rgb[i, :, :] = self.normalize(raw_rgb[i, :, :])\n",
        "        \n",
        "        return raw_rgb\n",
        "    \n",
        "    def open_mask(self, idx):\n",
        "        # Extract certain classes from mask\n",
        " \n",
        "        mask = self.samples['masks'][idx].compute()\n",
        "        if self.augmentation:\n",
        "            transformed = self.augmentation(image = mask)\n",
        "            mask  = transformed[\"image\"]\n",
        "      \n",
        "        if self.preprocessing:\n",
        "            # transpose to tensor shape\n",
        "            mask_ = np.expand_dims(mask, 0).astype('float32')\n",
        "            #mask = mask.transpose((2, 0, 1)).astype('float32') # mask shape [classes_channels, H, W]      \n",
        "            # Normalize the mask bands\n",
        "            mask_ = self.normalize(mask_)       \n",
        "            \n",
        "            # Convert to Tensor\n",
        "            mask_ = torch.from_numpy(mask_)\n",
        "        \n",
        "        return mask_\n",
        "    \n",
        "    def __getitem__(self, idx):\n",
        "        x = self.open_as_array(idx)\n",
        "        y = self.open_mask(idx)\n",
        "        \n",
        "        return x, y\n",
        "    \n",
        "    def __repr__(self):\n",
        "        s = 'Dataset class with {} files'.format(self.__len__())\n",
        "        return s"
      ],
      "execution_count": null,
      "outputs": []
    },
    {
      "cell_type": "code",
      "metadata": {
        "id": "-w2w_vLAfPmb",
        "trusted": true
      },
      "source": [
        "\n",
        "# Declare an augmentation pipeline\n",
        "\n",
        "transform = A.Compose([\n",
        "    A.CenterCrop(height=224, width=224),\n",
        "    A.HorizontalFlip(p=0.5),\n",
        " \n",
        " \n",
        "])\n",
        "\n",
        "# Load data to Pytorch \n",
        "dataset = SpaceNetDataset(ds, preprocessing=True,\n",
        "                           augmentation=transform)\n",
        "'''x, y = dataset[1100]\n",
        "#y = y[:, :, 0]\n",
        "#plt.imshow(y[:, :, 0])\n",
        "\n",
        "visualize(image = x, mask=y )\n",
        "len(dataset)'''\n",
        "\n",
        "valid_split = 0.2\n",
        "batch_size = 32\n",
        "# Create indices for the split\n",
        "dataset_size = len(dataset)\n",
        "valid_size = int(valid_split * dataset_size)\n",
        "test_size = int(valid_split * dataset_size)\n",
        "train_size = dataset_size - (valid_size + test_size)\n",
        "\n",
        "train_dataset, valid_dataset, test_dataset = torch.utils.data.random_split(dataset,\n",
        "                                               [train_size, valid_size, test_size])\n",
        "train_loader = DataLoader(\n",
        "        train_dataset.dataset,\n",
        "        batch_size=batch_size,\n",
        "        shuffle=True)\n",
        "\n",
        "valid_loader = DataLoader(\n",
        "        valid_dataset.dataset,\n",
        "        batch_size=batch_size,\n",
        "        shuffle=True)\n",
        "    \n",
        "\n",
        "test_loader = DataLoader(\n",
        "        test_dataset.dataset,\n",
        "        batch_size=batch_size,\n",
        "        shuffle=True)"
      ],
      "execution_count": null,
      "outputs": []
    },
    {
      "cell_type": "code",
      "metadata": {
        "id": "ntj1soUa9JqX",
        "trusted": true,
        "colab": {
          "base_uri": "https://localhost:8080/"
        },
        "outputId": "a26d39f4-5754-40a8-b578-0847d076433a"
      },
      "source": [
        "# Check the data loader\n",
        "images, masks = iter(train_loader).next()\n"
      ],
      "execution_count": null,
      "outputs": [
        {
          "output_type": "stream",
          "text": [
            "/usr/local/lib/python3.6/dist-packages/ipykernel_launcher.py:32: UserWarning: indexing with dtype torch.uint8 is now deprecated, please use a dtype torch.bool instead. (Triggered internally at  /pytorch/aten/src/ATen/native/IndexingUtils.h:25.)\n"
          ],
          "name": "stderr"
        }
      ]
    },
    {
      "cell_type": "code",
      "metadata": {
        "trusted": true,
        "colab": {
          "base_uri": "https://localhost:8080/"
        },
        "id": "Xkdynrt64t24",
        "outputId": "bf360518-25f1-4da0-852d-0146112a4d5d"
      },
      "source": [
        "print(images.shape)\n",
        "print(masks.shape)\n",
        "# Check the max value in our normalized image\n",
        "print(images[0].max())\n",
        "print(masks[0].max())\n",
        "print(images[0].min())\n",
        "print(masks[0].min())\n",
        "print(masks[0].dtype)\n",
        "print(images[0])"
      ],
      "execution_count": null,
      "outputs": [
        {
          "output_type": "stream",
          "text": [
            "torch.Size([32, 3, 224, 224])\n",
            "torch.Size([32, 1, 224, 224])\n",
            "tensor(1.)\n",
            "tensor(0.)\n",
            "tensor(0.)\n",
            "tensor(0.)\n",
            "torch.float32\n",
            "tensor([[[0.2459, 0.2623, 0.2787,  ..., 0.2787, 0.3115, 0.2951],\n",
            "         [0.2623, 0.2459, 0.2623,  ..., 0.2787, 0.2787, 0.2951],\n",
            "         [0.2623, 0.2623, 0.2951,  ..., 0.2787, 0.2787, 0.2623],\n",
            "         ...,\n",
            "         [0.1148, 0.1639, 0.1803,  ..., 0.2131, 0.1475, 0.0984],\n",
            "         [0.1475, 0.0984, 0.0820,  ..., 0.1148, 0.1148, 0.1148],\n",
            "         [0.1639, 0.1311, 0.1148,  ..., 0.0984, 0.1148, 0.1148]],\n",
            "\n",
            "        [[0.2936, 0.3028, 0.3028,  ..., 0.3486, 0.3761, 0.3578],\n",
            "         [0.2936, 0.2844, 0.3028,  ..., 0.3486, 0.3578, 0.3578],\n",
            "         [0.3028, 0.2936, 0.3211,  ..., 0.3486, 0.3486, 0.3394],\n",
            "         ...,\n",
            "         [0.1193, 0.1651, 0.1743,  ..., 0.2110, 0.1468, 0.1009],\n",
            "         [0.1468, 0.1009, 0.0826,  ..., 0.1101, 0.1193, 0.1101],\n",
            "         [0.1651, 0.1284, 0.1101,  ..., 0.1101, 0.1193, 0.1284]],\n",
            "\n",
            "        [[0.2211, 0.2316, 0.2421,  ..., 0.2526, 0.2842, 0.2737],\n",
            "         [0.2316, 0.2211, 0.2421,  ..., 0.2526, 0.2737, 0.2737],\n",
            "         [0.2316, 0.2421, 0.2737,  ..., 0.2526, 0.2526, 0.2421],\n",
            "         ...,\n",
            "         [0.1053, 0.1474, 0.1579,  ..., 0.2105, 0.1474, 0.1053],\n",
            "         [0.1263, 0.0842, 0.0632,  ..., 0.1158, 0.1263, 0.1158],\n",
            "         [0.1579, 0.1158, 0.1053,  ..., 0.1158, 0.1263, 0.1368]]])\n"
          ],
          "name": "stdout"
        }
      ]
    },
    {
      "cell_type": "code",
      "metadata": {
        "id": "lz5Fh9BTxkJj",
        "trusted": true,
        "colab": {
          "base_uri": "https://localhost:8080/",
          "height": 103,
          "referenced_widgets": [
            "8891056a7a9e4ca08137991fdb4dfd58",
            "d4c75cb1fb8c4ff884a2a998321658d1",
            "8bdde8f7e1c14e84b381dc0078c568c8",
            "b880a3499c524cbeb63c3e4d12c2dfd7",
            "c90b10d6d94640cb956873275dd610f8",
            "bf1e61bbf6f846848990c895eec412f4",
            "f027a35da13045ed87ee9b7d7a8923c9",
            "32a28090de454307bd9511aba399d84f",
            "3804ec263f9e46638f936d7462bab4b7",
            "b450edd407394c019a42f26f65f1c812",
            "e9db1209611c495ba11d3a95a0eb2cba"
          ]
        },
        "outputId": "1e0010de-1fbc-4709-ee2c-786dfa5fdd89"
      },
      "source": [
        "\n",
        "ENCODER = 'resnet50' #se_resnext50_32x4d  #Linknet\n",
        "ENCODER_WEIGHTS = 'imagenet'\n",
        "ACTIVATION = None #'sigmoid'\n",
        "DEVICE = 'cuda'\n",
        "model = smp.FPN(ENCODER, activation=ACTIVATION, classes=1, in_channels=3)\n"
      ],
      "execution_count": null,
      "outputs": [
        {
          "output_type": "stream",
          "text": [
            "Downloading: \"https://download.pytorch.org/models/resnet50-19c8e357.pth\" to /root/.cache/torch/hub/checkpoints/resnet50-19c8e357.pth\n"
          ],
          "name": "stderr"
        },
        {
          "output_type": "display_data",
          "data": {
            "application/vnd.jupyter.widget-view+json": {
              "model_id": "8891056a7a9e4ca08137991fdb4dfd58",
              "version_minor": 0,
              "version_major": 2
            },
            "text/plain": [
              "HBox(children=(HTML(value=''), FloatProgress(value=0.0, max=102502400.0), HTML(value='')))"
            ]
          },
          "metadata": {
            "tags": []
          }
        },
        {
          "output_type": "stream",
          "text": [
            "\n"
          ],
          "name": "stdout"
        }
      ]
    },
    {
      "cell_type": "code",
      "metadata": {
        "id": "OtBfxXC4z2cz",
        "trusted": true
      },
      "source": [
        "loss = smp.utils.losses.BCEWithLogitsLoss()\n",
        "metrics = [\n",
        "    smp.utils.metrics.IoU(threshold=0.5),\n",
        "]\n",
        "optimizer = torch.optim.Adam([ \n",
        "    dict(params=model.parameters(), lr=0.01),\n",
        "])"
      ],
      "execution_count": null,
      "outputs": []
    },
    {
      "cell_type": "code",
      "metadata": {
        "id": "K-ZOm5Fs0NFk",
        "trusted": true
      },
      "source": [
        "# create epoch runners \n",
        "# it is a simple loop of iterating over dataloader`s samples\n",
        "train_epoch = smp.utils.train.TrainEpoch(\n",
        "    model, \n",
        "    loss=loss, \n",
        "    metrics=metrics, \n",
        "    optimizer=optimizer,\n",
        "    device = DEVICE,\n",
        "    verbose=True,\n",
        ")\n",
        "\n",
        "valid_epoch = smp.utils.train.ValidEpoch(\n",
        "    model, \n",
        "    loss=loss, \n",
        "    metrics=metrics, \n",
        "    device = DEVICE,\n",
        "    verbose=True,\n",
        ")"
      ],
      "execution_count": null,
      "outputs": []
    },
    {
      "cell_type": "code",
      "metadata": {
        "trusted": true,
        "id": "gCQjLagM4t26",
        "colab": {
          "base_uri": "https://localhost:8080/"
        },
        "outputId": "52c16dc4-4ab1-4cde-ed21-853ca09d5cf7"
      },
      "source": [
        "def load_checkpoint(filepath):\n",
        "    checkpoint = torch.load(filepath)\n",
        "    model = smp.FPN(checkpoint['encoder'], \n",
        "                        activation=checkpoint['activation'], \n",
        "                        classes=checkpoint['classes'],\n",
        "                        in_channels=3)\n",
        "    model.load_state_dict(checkpoint['state_dict'])\n",
        "    return model\n",
        "\n",
        "# load best saved checkpoint\n",
        "model = load_checkpoint('/content/best_model (10).pth')\n",
        "print(model)\n"
      ],
      "execution_count": null,
      "outputs": [
        {
          "output_type": "stream",
          "text": [
            "FPN(\n",
            "  (encoder): ResNetEncoder(\n",
            "    (conv1): Conv2d(3, 64, kernel_size=(7, 7), stride=(2, 2), padding=(3, 3), bias=False)\n",
            "    (bn1): BatchNorm2d(64, eps=1e-05, momentum=0.1, affine=True, track_running_stats=True)\n",
            "    (relu): ReLU(inplace=True)\n",
            "    (maxpool): MaxPool2d(kernel_size=3, stride=2, padding=1, dilation=1, ceil_mode=False)\n",
            "    (layer1): Sequential(\n",
            "      (0): Bottleneck(\n",
            "        (conv1): Conv2d(64, 64, kernel_size=(1, 1), stride=(1, 1), bias=False)\n",
            "        (bn1): BatchNorm2d(64, eps=1e-05, momentum=0.1, affine=True, track_running_stats=True)\n",
            "        (conv2): Conv2d(64, 64, kernel_size=(3, 3), stride=(1, 1), padding=(1, 1), bias=False)\n",
            "        (bn2): BatchNorm2d(64, eps=1e-05, momentum=0.1, affine=True, track_running_stats=True)\n",
            "        (conv3): Conv2d(64, 256, kernel_size=(1, 1), stride=(1, 1), bias=False)\n",
            "        (bn3): BatchNorm2d(256, eps=1e-05, momentum=0.1, affine=True, track_running_stats=True)\n",
            "        (relu): ReLU(inplace=True)\n",
            "        (downsample): Sequential(\n",
            "          (0): Conv2d(64, 256, kernel_size=(1, 1), stride=(1, 1), bias=False)\n",
            "          (1): BatchNorm2d(256, eps=1e-05, momentum=0.1, affine=True, track_running_stats=True)\n",
            "        )\n",
            "      )\n",
            "      (1): Bottleneck(\n",
            "        (conv1): Conv2d(256, 64, kernel_size=(1, 1), stride=(1, 1), bias=False)\n",
            "        (bn1): BatchNorm2d(64, eps=1e-05, momentum=0.1, affine=True, track_running_stats=True)\n",
            "        (conv2): Conv2d(64, 64, kernel_size=(3, 3), stride=(1, 1), padding=(1, 1), bias=False)\n",
            "        (bn2): BatchNorm2d(64, eps=1e-05, momentum=0.1, affine=True, track_running_stats=True)\n",
            "        (conv3): Conv2d(64, 256, kernel_size=(1, 1), stride=(1, 1), bias=False)\n",
            "        (bn3): BatchNorm2d(256, eps=1e-05, momentum=0.1, affine=True, track_running_stats=True)\n",
            "        (relu): ReLU(inplace=True)\n",
            "      )\n",
            "      (2): Bottleneck(\n",
            "        (conv1): Conv2d(256, 64, kernel_size=(1, 1), stride=(1, 1), bias=False)\n",
            "        (bn1): BatchNorm2d(64, eps=1e-05, momentum=0.1, affine=True, track_running_stats=True)\n",
            "        (conv2): Conv2d(64, 64, kernel_size=(3, 3), stride=(1, 1), padding=(1, 1), bias=False)\n",
            "        (bn2): BatchNorm2d(64, eps=1e-05, momentum=0.1, affine=True, track_running_stats=True)\n",
            "        (conv3): Conv2d(64, 256, kernel_size=(1, 1), stride=(1, 1), bias=False)\n",
            "        (bn3): BatchNorm2d(256, eps=1e-05, momentum=0.1, affine=True, track_running_stats=True)\n",
            "        (relu): ReLU(inplace=True)\n",
            "      )\n",
            "    )\n",
            "    (layer2): Sequential(\n",
            "      (0): Bottleneck(\n",
            "        (conv1): Conv2d(256, 128, kernel_size=(1, 1), stride=(1, 1), bias=False)\n",
            "        (bn1): BatchNorm2d(128, eps=1e-05, momentum=0.1, affine=True, track_running_stats=True)\n",
            "        (conv2): Conv2d(128, 128, kernel_size=(3, 3), stride=(2, 2), padding=(1, 1), bias=False)\n",
            "        (bn2): BatchNorm2d(128, eps=1e-05, momentum=0.1, affine=True, track_running_stats=True)\n",
            "        (conv3): Conv2d(128, 512, kernel_size=(1, 1), stride=(1, 1), bias=False)\n",
            "        (bn3): BatchNorm2d(512, eps=1e-05, momentum=0.1, affine=True, track_running_stats=True)\n",
            "        (relu): ReLU(inplace=True)\n",
            "        (downsample): Sequential(\n",
            "          (0): Conv2d(256, 512, kernel_size=(1, 1), stride=(2, 2), bias=False)\n",
            "          (1): BatchNorm2d(512, eps=1e-05, momentum=0.1, affine=True, track_running_stats=True)\n",
            "        )\n",
            "      )\n",
            "      (1): Bottleneck(\n",
            "        (conv1): Conv2d(512, 128, kernel_size=(1, 1), stride=(1, 1), bias=False)\n",
            "        (bn1): BatchNorm2d(128, eps=1e-05, momentum=0.1, affine=True, track_running_stats=True)\n",
            "        (conv2): Conv2d(128, 128, kernel_size=(3, 3), stride=(1, 1), padding=(1, 1), bias=False)\n",
            "        (bn2): BatchNorm2d(128, eps=1e-05, momentum=0.1, affine=True, track_running_stats=True)\n",
            "        (conv3): Conv2d(128, 512, kernel_size=(1, 1), stride=(1, 1), bias=False)\n",
            "        (bn3): BatchNorm2d(512, eps=1e-05, momentum=0.1, affine=True, track_running_stats=True)\n",
            "        (relu): ReLU(inplace=True)\n",
            "      )\n",
            "      (2): Bottleneck(\n",
            "        (conv1): Conv2d(512, 128, kernel_size=(1, 1), stride=(1, 1), bias=False)\n",
            "        (bn1): BatchNorm2d(128, eps=1e-05, momentum=0.1, affine=True, track_running_stats=True)\n",
            "        (conv2): Conv2d(128, 128, kernel_size=(3, 3), stride=(1, 1), padding=(1, 1), bias=False)\n",
            "        (bn2): BatchNorm2d(128, eps=1e-05, momentum=0.1, affine=True, track_running_stats=True)\n",
            "        (conv3): Conv2d(128, 512, kernel_size=(1, 1), stride=(1, 1), bias=False)\n",
            "        (bn3): BatchNorm2d(512, eps=1e-05, momentum=0.1, affine=True, track_running_stats=True)\n",
            "        (relu): ReLU(inplace=True)\n",
            "      )\n",
            "      (3): Bottleneck(\n",
            "        (conv1): Conv2d(512, 128, kernel_size=(1, 1), stride=(1, 1), bias=False)\n",
            "        (bn1): BatchNorm2d(128, eps=1e-05, momentum=0.1, affine=True, track_running_stats=True)\n",
            "        (conv2): Conv2d(128, 128, kernel_size=(3, 3), stride=(1, 1), padding=(1, 1), bias=False)\n",
            "        (bn2): BatchNorm2d(128, eps=1e-05, momentum=0.1, affine=True, track_running_stats=True)\n",
            "        (conv3): Conv2d(128, 512, kernel_size=(1, 1), stride=(1, 1), bias=False)\n",
            "        (bn3): BatchNorm2d(512, eps=1e-05, momentum=0.1, affine=True, track_running_stats=True)\n",
            "        (relu): ReLU(inplace=True)\n",
            "      )\n",
            "    )\n",
            "    (layer3): Sequential(\n",
            "      (0): Bottleneck(\n",
            "        (conv1): Conv2d(512, 256, kernel_size=(1, 1), stride=(1, 1), bias=False)\n",
            "        (bn1): BatchNorm2d(256, eps=1e-05, momentum=0.1, affine=True, track_running_stats=True)\n",
            "        (conv2): Conv2d(256, 256, kernel_size=(3, 3), stride=(2, 2), padding=(1, 1), bias=False)\n",
            "        (bn2): BatchNorm2d(256, eps=1e-05, momentum=0.1, affine=True, track_running_stats=True)\n",
            "        (conv3): Conv2d(256, 1024, kernel_size=(1, 1), stride=(1, 1), bias=False)\n",
            "        (bn3): BatchNorm2d(1024, eps=1e-05, momentum=0.1, affine=True, track_running_stats=True)\n",
            "        (relu): ReLU(inplace=True)\n",
            "        (downsample): Sequential(\n",
            "          (0): Conv2d(512, 1024, kernel_size=(1, 1), stride=(2, 2), bias=False)\n",
            "          (1): BatchNorm2d(1024, eps=1e-05, momentum=0.1, affine=True, track_running_stats=True)\n",
            "        )\n",
            "      )\n",
            "      (1): Bottleneck(\n",
            "        (conv1): Conv2d(1024, 256, kernel_size=(1, 1), stride=(1, 1), bias=False)\n",
            "        (bn1): BatchNorm2d(256, eps=1e-05, momentum=0.1, affine=True, track_running_stats=True)\n",
            "        (conv2): Conv2d(256, 256, kernel_size=(3, 3), stride=(1, 1), padding=(1, 1), bias=False)\n",
            "        (bn2): BatchNorm2d(256, eps=1e-05, momentum=0.1, affine=True, track_running_stats=True)\n",
            "        (conv3): Conv2d(256, 1024, kernel_size=(1, 1), stride=(1, 1), bias=False)\n",
            "        (bn3): BatchNorm2d(1024, eps=1e-05, momentum=0.1, affine=True, track_running_stats=True)\n",
            "        (relu): ReLU(inplace=True)\n",
            "      )\n",
            "      (2): Bottleneck(\n",
            "        (conv1): Conv2d(1024, 256, kernel_size=(1, 1), stride=(1, 1), bias=False)\n",
            "        (bn1): BatchNorm2d(256, eps=1e-05, momentum=0.1, affine=True, track_running_stats=True)\n",
            "        (conv2): Conv2d(256, 256, kernel_size=(3, 3), stride=(1, 1), padding=(1, 1), bias=False)\n",
            "        (bn2): BatchNorm2d(256, eps=1e-05, momentum=0.1, affine=True, track_running_stats=True)\n",
            "        (conv3): Conv2d(256, 1024, kernel_size=(1, 1), stride=(1, 1), bias=False)\n",
            "        (bn3): BatchNorm2d(1024, eps=1e-05, momentum=0.1, affine=True, track_running_stats=True)\n",
            "        (relu): ReLU(inplace=True)\n",
            "      )\n",
            "      (3): Bottleneck(\n",
            "        (conv1): Conv2d(1024, 256, kernel_size=(1, 1), stride=(1, 1), bias=False)\n",
            "        (bn1): BatchNorm2d(256, eps=1e-05, momentum=0.1, affine=True, track_running_stats=True)\n",
            "        (conv2): Conv2d(256, 256, kernel_size=(3, 3), stride=(1, 1), padding=(1, 1), bias=False)\n",
            "        (bn2): BatchNorm2d(256, eps=1e-05, momentum=0.1, affine=True, track_running_stats=True)\n",
            "        (conv3): Conv2d(256, 1024, kernel_size=(1, 1), stride=(1, 1), bias=False)\n",
            "        (bn3): BatchNorm2d(1024, eps=1e-05, momentum=0.1, affine=True, track_running_stats=True)\n",
            "        (relu): ReLU(inplace=True)\n",
            "      )\n",
            "      (4): Bottleneck(\n",
            "        (conv1): Conv2d(1024, 256, kernel_size=(1, 1), stride=(1, 1), bias=False)\n",
            "        (bn1): BatchNorm2d(256, eps=1e-05, momentum=0.1, affine=True, track_running_stats=True)\n",
            "        (conv2): Conv2d(256, 256, kernel_size=(3, 3), stride=(1, 1), padding=(1, 1), bias=False)\n",
            "        (bn2): BatchNorm2d(256, eps=1e-05, momentum=0.1, affine=True, track_running_stats=True)\n",
            "        (conv3): Conv2d(256, 1024, kernel_size=(1, 1), stride=(1, 1), bias=False)\n",
            "        (bn3): BatchNorm2d(1024, eps=1e-05, momentum=0.1, affine=True, track_running_stats=True)\n",
            "        (relu): ReLU(inplace=True)\n",
            "      )\n",
            "      (5): Bottleneck(\n",
            "        (conv1): Conv2d(1024, 256, kernel_size=(1, 1), stride=(1, 1), bias=False)\n",
            "        (bn1): BatchNorm2d(256, eps=1e-05, momentum=0.1, affine=True, track_running_stats=True)\n",
            "        (conv2): Conv2d(256, 256, kernel_size=(3, 3), stride=(1, 1), padding=(1, 1), bias=False)\n",
            "        (bn2): BatchNorm2d(256, eps=1e-05, momentum=0.1, affine=True, track_running_stats=True)\n",
            "        (conv3): Conv2d(256, 1024, kernel_size=(1, 1), stride=(1, 1), bias=False)\n",
            "        (bn3): BatchNorm2d(1024, eps=1e-05, momentum=0.1, affine=True, track_running_stats=True)\n",
            "        (relu): ReLU(inplace=True)\n",
            "      )\n",
            "    )\n",
            "    (layer4): Sequential(\n",
            "      (0): Bottleneck(\n",
            "        (conv1): Conv2d(1024, 512, kernel_size=(1, 1), stride=(1, 1), bias=False)\n",
            "        (bn1): BatchNorm2d(512, eps=1e-05, momentum=0.1, affine=True, track_running_stats=True)\n",
            "        (conv2): Conv2d(512, 512, kernel_size=(3, 3), stride=(2, 2), padding=(1, 1), bias=False)\n",
            "        (bn2): BatchNorm2d(512, eps=1e-05, momentum=0.1, affine=True, track_running_stats=True)\n",
            "        (conv3): Conv2d(512, 2048, kernel_size=(1, 1), stride=(1, 1), bias=False)\n",
            "        (bn3): BatchNorm2d(2048, eps=1e-05, momentum=0.1, affine=True, track_running_stats=True)\n",
            "        (relu): ReLU(inplace=True)\n",
            "        (downsample): Sequential(\n",
            "          (0): Conv2d(1024, 2048, kernel_size=(1, 1), stride=(2, 2), bias=False)\n",
            "          (1): BatchNorm2d(2048, eps=1e-05, momentum=0.1, affine=True, track_running_stats=True)\n",
            "        )\n",
            "      )\n",
            "      (1): Bottleneck(\n",
            "        (conv1): Conv2d(2048, 512, kernel_size=(1, 1), stride=(1, 1), bias=False)\n",
            "        (bn1): BatchNorm2d(512, eps=1e-05, momentum=0.1, affine=True, track_running_stats=True)\n",
            "        (conv2): Conv2d(512, 512, kernel_size=(3, 3), stride=(1, 1), padding=(1, 1), bias=False)\n",
            "        (bn2): BatchNorm2d(512, eps=1e-05, momentum=0.1, affine=True, track_running_stats=True)\n",
            "        (conv3): Conv2d(512, 2048, kernel_size=(1, 1), stride=(1, 1), bias=False)\n",
            "        (bn3): BatchNorm2d(2048, eps=1e-05, momentum=0.1, affine=True, track_running_stats=True)\n",
            "        (relu): ReLU(inplace=True)\n",
            "      )\n",
            "      (2): Bottleneck(\n",
            "        (conv1): Conv2d(2048, 512, kernel_size=(1, 1), stride=(1, 1), bias=False)\n",
            "        (bn1): BatchNorm2d(512, eps=1e-05, momentum=0.1, affine=True, track_running_stats=True)\n",
            "        (conv2): Conv2d(512, 512, kernel_size=(3, 3), stride=(1, 1), padding=(1, 1), bias=False)\n",
            "        (bn2): BatchNorm2d(512, eps=1e-05, momentum=0.1, affine=True, track_running_stats=True)\n",
            "        (conv3): Conv2d(512, 2048, kernel_size=(1, 1), stride=(1, 1), bias=False)\n",
            "        (bn3): BatchNorm2d(2048, eps=1e-05, momentum=0.1, affine=True, track_running_stats=True)\n",
            "        (relu): ReLU(inplace=True)\n",
            "      )\n",
            "    )\n",
            "  )\n",
            "  (decoder): FPNDecoder(\n",
            "    (p5): Conv2d(2048, 256, kernel_size=(1, 1), stride=(1, 1))\n",
            "    (p4): FPNBlock(\n",
            "      (skip_conv): Conv2d(1024, 256, kernel_size=(1, 1), stride=(1, 1))\n",
            "    )\n",
            "    (p3): FPNBlock(\n",
            "      (skip_conv): Conv2d(512, 256, kernel_size=(1, 1), stride=(1, 1))\n",
            "    )\n",
            "    (p2): FPNBlock(\n",
            "      (skip_conv): Conv2d(256, 256, kernel_size=(1, 1), stride=(1, 1))\n",
            "    )\n",
            "    (seg_blocks): ModuleList(\n",
            "      (0): SegmentationBlock(\n",
            "        (block): Sequential(\n",
            "          (0): Conv3x3GNReLU(\n",
            "            (block): Sequential(\n",
            "              (0): Conv2d(256, 128, kernel_size=(3, 3), stride=(1, 1), padding=(1, 1), bias=False)\n",
            "              (1): GroupNorm(32, 128, eps=1e-05, affine=True)\n",
            "              (2): ReLU(inplace=True)\n",
            "            )\n",
            "          )\n",
            "          (1): Conv3x3GNReLU(\n",
            "            (block): Sequential(\n",
            "              (0): Conv2d(128, 128, kernel_size=(3, 3), stride=(1, 1), padding=(1, 1), bias=False)\n",
            "              (1): GroupNorm(32, 128, eps=1e-05, affine=True)\n",
            "              (2): ReLU(inplace=True)\n",
            "            )\n",
            "          )\n",
            "          (2): Conv3x3GNReLU(\n",
            "            (block): Sequential(\n",
            "              (0): Conv2d(128, 128, kernel_size=(3, 3), stride=(1, 1), padding=(1, 1), bias=False)\n",
            "              (1): GroupNorm(32, 128, eps=1e-05, affine=True)\n",
            "              (2): ReLU(inplace=True)\n",
            "            )\n",
            "          )\n",
            "        )\n",
            "      )\n",
            "      (1): SegmentationBlock(\n",
            "        (block): Sequential(\n",
            "          (0): Conv3x3GNReLU(\n",
            "            (block): Sequential(\n",
            "              (0): Conv2d(256, 128, kernel_size=(3, 3), stride=(1, 1), padding=(1, 1), bias=False)\n",
            "              (1): GroupNorm(32, 128, eps=1e-05, affine=True)\n",
            "              (2): ReLU(inplace=True)\n",
            "            )\n",
            "          )\n",
            "          (1): Conv3x3GNReLU(\n",
            "            (block): Sequential(\n",
            "              (0): Conv2d(128, 128, kernel_size=(3, 3), stride=(1, 1), padding=(1, 1), bias=False)\n",
            "              (1): GroupNorm(32, 128, eps=1e-05, affine=True)\n",
            "              (2): ReLU(inplace=True)\n",
            "            )\n",
            "          )\n",
            "        )\n",
            "      )\n",
            "      (2): SegmentationBlock(\n",
            "        (block): Sequential(\n",
            "          (0): Conv3x3GNReLU(\n",
            "            (block): Sequential(\n",
            "              (0): Conv2d(256, 128, kernel_size=(3, 3), stride=(1, 1), padding=(1, 1), bias=False)\n",
            "              (1): GroupNorm(32, 128, eps=1e-05, affine=True)\n",
            "              (2): ReLU(inplace=True)\n",
            "            )\n",
            "          )\n",
            "        )\n",
            "      )\n",
            "      (3): SegmentationBlock(\n",
            "        (block): Sequential(\n",
            "          (0): Conv3x3GNReLU(\n",
            "            (block): Sequential(\n",
            "              (0): Conv2d(256, 128, kernel_size=(3, 3), stride=(1, 1), padding=(1, 1), bias=False)\n",
            "              (1): GroupNorm(32, 128, eps=1e-05, affine=True)\n",
            "              (2): ReLU(inplace=True)\n",
            "            )\n",
            "          )\n",
            "        )\n",
            "      )\n",
            "    )\n",
            "    (merge): MergeBlock()\n",
            "    (dropout): Dropout2d(p=0.2, inplace=True)\n",
            "  )\n",
            "  (segmentation_head): SegmentationHead(\n",
            "    (0): Conv2d(128, 1, kernel_size=(1, 1), stride=(1, 1))\n",
            "    (1): UpsamplingBilinear2d(scale_factor=4.0, mode=bilinear)\n",
            "    (2): Activation(\n",
            "      (activation): Identity()\n",
            "    )\n",
            "  )\n",
            ")\n"
          ],
          "name": "stdout"
        }
      ]
    },
    {
      "cell_type": "code",
      "metadata": {
        "id": "EEBYK1Ob0Q4p",
        "trusted": true,
        "colab": {
          "base_uri": "https://localhost:8080/"
        },
        "outputId": "7ffc4c1c-5497-4c17-8b11-1f73e043a94b"
      },
      "source": [
        "# Notes:\n",
        "## Start with Adam and then SGD\n",
        "### Have larger batch size\n",
        "####\n",
        "\n",
        "# train model\n",
        "\n",
        "max_score = 0\n",
        "for i in range(0, 100):\n",
        "    \n",
        "    print('\\nEpoch: {}'.format(i))\n",
        "    train_logs = train_epoch.run(train_loader)\n",
        "    valid_logs = valid_epoch.run(valid_loader)\n",
        "    \n",
        "    # do something (save model, change lr, etc.)\n",
        "    if max_score < valid_logs['iou_score']:\n",
        "        max_score = valid_logs['iou_score']\n",
        "        # Saving the model\n",
        "        checkpoint = {\"encoder\":ENCODER,\n",
        "                      \"activation\":ACTIVATION,\n",
        "                      \"classes\":1,\n",
        "                      \"in_channels\":3,\n",
        "                      \"state_dict\": model.state_dict()}\n",
        "        \n",
        "        torch.save(checkpoint, 'best_model.pth')\n",
        "        \n",
        "        print('Model saved!')\n",
        "        \n",
        "    if i == 30:\n",
        "        files.download('/content/best_model.pth')\n",
        "\n",
        "    if i == 60:\n",
        "        files.download('/content/best_model.pth')\n",
        "\n",
        "    if i == 85:\n",
        "        files.download('/content/best_model.pth')\n",
        "        model = load_checkpoint('best_model.pth')\n",
        "        optimizer = torch.optim.SGD(model.parameters(), 1e-4)\n",
        "\n",
        "\n"
      ],
      "execution_count": null,
      "outputs": [
        {
          "output_type": "stream",
          "text": [
            "\n",
            "Epoch: 0\n",
            "\rtrain:   0%|          | 0/121 [00:00<?, ?it/s]"
          ],
          "name": "stdout"
        },
        {
          "output_type": "stream",
          "text": [
            "/usr/local/lib/python3.6/dist-packages/ipykernel_launcher.py:32: UserWarning: indexing with dtype torch.uint8 is now deprecated, please use a dtype torch.bool instead. (Triggered internally at  /pytorch/aten/src/ATen/native/IndexingUtils.h:25.)\n"
          ],
          "name": "stderr"
        },
        {
          "output_type": "stream",
          "text": [
            "train:  43%|████▎     | 52/121 [1:06:10<2:26:41, 127.56s/it, bce_with_logits_loss - 0.7277, iou_score - 0.04022]"
          ],
          "name": "stdout"
        }
      ]
    },
    {
      "cell_type": "code",
      "metadata": {
        "colab": {
          "base_uri": "https://localhost:8080/",
          "height": 34
        },
        "id": "Dg498h6nDv9F",
        "outputId": "4bb3d117-039e-4b0e-fbb7-2350bd493331"
      },
      "source": [
        "from google.colab import files\r\n",
        "files.download('/content/best_model.pth')"
      ],
      "execution_count": null,
      "outputs": [
        {
          "output_type": "display_data",
          "data": {
            "application/javascript": [
              "\n",
              "    async function download(id, filename, size) {\n",
              "      if (!google.colab.kernel.accessAllowed) {\n",
              "        return;\n",
              "      }\n",
              "      const div = document.createElement('div');\n",
              "      const label = document.createElement('label');\n",
              "      label.textContent = `Downloading \"${filename}\": `;\n",
              "      div.appendChild(label);\n",
              "      const progress = document.createElement('progress');\n",
              "      progress.max = size;\n",
              "      div.appendChild(progress);\n",
              "      document.body.appendChild(div);\n",
              "\n",
              "      const buffers = [];\n",
              "      let downloaded = 0;\n",
              "\n",
              "      const channel = await google.colab.kernel.comms.open(id);\n",
              "      // Send a message to notify the kernel that we're ready.\n",
              "      channel.send({})\n",
              "\n",
              "      for await (const message of channel.messages) {\n",
              "        // Send a message to notify the kernel that we're ready.\n",
              "        channel.send({})\n",
              "        if (message.buffers) {\n",
              "          for (const buffer of message.buffers) {\n",
              "            buffers.push(buffer);\n",
              "            downloaded += buffer.byteLength;\n",
              "            progress.value = downloaded;\n",
              "          }\n",
              "        }\n",
              "      }\n",
              "      const blob = new Blob(buffers, {type: 'application/binary'});\n",
              "      const a = document.createElement('a');\n",
              "      a.href = window.URL.createObjectURL(blob);\n",
              "      a.download = filename;\n",
              "      div.appendChild(a);\n",
              "      a.click();\n",
              "      div.remove();\n",
              "    }\n",
              "  "
            ],
            "text/plain": [
              "<IPython.core.display.Javascript object>"
            ]
          },
          "metadata": {
            "tags": []
          }
        },
        {
          "output_type": "display_data",
          "data": {
            "application/javascript": [
              "download(\"download_d6cb3aba-b4ee-4a12-ad92-46f230d16a6b\", \"best_model.pth\", 104802237)"
            ],
            "text/plain": [
              "<IPython.core.display.Javascript object>"
            ]
          },
          "metadata": {
            "tags": []
          }
        }
      ]
    },
    {
      "cell_type": "code",
      "metadata": {
        "trusted": true,
        "id": "nq9t9slS4t27"
      },
      "source": [
        "# load best saved checkpoint\n",
        "# load best saved checkpoint\n",
        "best_model = load_checkpoint('/content/best_model.pth')\n",
        "\n",
        "print(best_model)\n"
      ],
      "execution_count": null,
      "outputs": []
    },
    {
      "cell_type": "code",
      "metadata": {
        "id": "3U_rVTkT0adD",
        "trusted": true
      },
      "source": [
        "# evaluate model on test set\n",
        "test_epoch = smp.utils.train.ValidEpoch(\n",
        "    model=best_model,\n",
        "    loss=loss,\n",
        "    metrics=metrics,\n",
        "    device=DEVICE,\n",
        ")\n",
        "\n",
        "logs = test_epoch.run(test_loader)"
      ],
      "execution_count": null,
      "outputs": []
    },
    {
      "cell_type": "code",
      "metadata": {
        "id": "2iNAUZ9h0gfx",
        "trusted": true
      },
      "source": [
        "# test dataset without transformations for image visualization\n",
        "test_dataset_vis = Dataset(\n",
        "    x_test_dir, y_test_dir, \n",
        "    classes=CLASSES,\n",
        ")"
      ],
      "execution_count": null,
      "outputs": []
    },
    {
      "cell_type": "markdown",
      "metadata": {
        "id": "1_qhKErIygqm"
      },
      "source": [
        "# Reference\n",
        "- https://github.com/activeloopai/Hub\n",
        "-https://stackoverflow.com/questions/59218671/runtimeerror-output-with-shape-1-224-224-doesnt-match-the-broadcast-shape"
      ]
    },
    {
      "cell_type": "code",
      "metadata": {
        "id": "RX9MlfhY7pOE",
        "trusted": true
      },
      "source": [
        ""
      ],
      "execution_count": null,
      "outputs": []
    },
    {
      "cell_type": "code",
      "metadata": {
        "id": "pvb53ANV7pL2",
        "trusted": true
      },
      "source": [
        ""
      ],
      "execution_count": null,
      "outputs": []
    }
  ]
}