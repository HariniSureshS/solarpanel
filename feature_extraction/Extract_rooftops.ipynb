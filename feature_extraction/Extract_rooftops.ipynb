{
  "nbformat": 4,
  "nbformat_minor": 0,
  "metadata": {
    "colab": {
      "name": "Extract_rooftops.ipynb",
      "provenance": [],
      "collapsed_sections": []
    },
    "kernelspec": {
      "name": "python3",
      "display_name": "Python 3"
    }
  },
  "cells": [
    {
      "cell_type": "markdown",
      "metadata": {
        "id": "md6dFbLumlSe"
      },
      "source": [
        "First we need to get our predicted image from our model and use the predected polygons to extract our rooftops"
      ]
    },
    {
      "cell_type": "code",
      "metadata": {
        "id": "EsUetECji8Lj"
      },
      "source": [
        "%%capture\r\n",
        "!pip install geopandas\r\n",
        "!pip install rasterio"
      ],
      "execution_count": 46,
      "outputs": []
    },
    {
      "cell_type": "code",
      "metadata": {
        "colab": {
          "base_uri": "https://localhost:8080/"
        },
        "id": "LHNcGixbbHmU",
        "outputId": "2583b360-722f-4535-ffdd-70c4b05e9e87"
      },
      "source": [
        "from google.colab import drive\r\n",
        "drive.mount('/content/drive')"
      ],
      "execution_count": 10,
      "outputs": [
        {
          "output_type": "stream",
          "text": [
            "Drive already mounted at /content/drive; to attempt to forcibly remount, call drive.mount(\"/content/drive\", force_remount=True).\n"
          ],
          "name": "stdout"
        }
      ]
    },
    {
      "cell_type": "code",
      "metadata": {
        "id": "5v_VuEC3cC1C"
      },
      "source": [
        "import numpy as np\r\n",
        "import cv2\r\n",
        "import matplotlib.pyplot as plt\r\n",
        "import pandas as pd\r\n",
        "import fiona\r\n",
        "import geopandas as gpd\r\n",
        "import rasterio as rio\r\n",
        "from PIL import Image\r\n",
        "import rasterio.mask"
      ],
      "execution_count": 54,
      "outputs": []
    },
    {
      "cell_type": "code",
      "metadata": {
        "colab": {
          "base_uri": "https://localhost:8080/"
        },
        "id": "A-y2OUydiD3U",
        "outputId": "e2078fc5-64f1-4613-9e93-7e4ea950c6ce"
      },
      "source": [
        "gdf_path = '/content/drive/MyDrive/Official Folder Omdena Talent Good3Energy/Pipeline/output/new_geo_px.geojson'\r\n",
        "img_path = '/content/drive/MyDrive/Official Folder Omdena Talent Good3Energy/Pipeline/tile_image/building_tile.png'\r\n",
        "\r\n",
        "im = Image.open(img_path)\r\n",
        "im.save('building_tile.tif')\r\n",
        "\r\n",
        "def mask_buildings(raster_path, geoson_path, mask_path):\r\n",
        "    '''\r\n",
        "    Takes the paths for a raster image  and a geoJson mask\r\n",
        "    '''\r\n",
        "    # Get the geoJson mask and the raster image\r\n",
        "    with fiona.open(geoson_path, 'r') as gdf:\r\n",
        "         polys = [feature[\"geometry\"] for feature in gdf]\r\n",
        "\r\n",
        "\r\n",
        "    with rio.open(raster_path) as src:\r\n",
        "        out_image, out_transform = rio.mask.mask(src, polys, crop=True)\r\n",
        "        out_meta = src.meta\r\n",
        "    \r\n",
        "    # Save the new masked image    \r\n",
        "    out_meta.update({ \"driver\": \"PNG\",\r\n",
        "                    \"height\": out_image.shape[1],\r\n",
        "                    \"width\": out_image.shape[2],\r\n",
        "                    \"transform\": out_transform})\r\n",
        "\r\n",
        "    with rio.open(mask_path, \"w\", **out_meta) as dest:\r\n",
        "        dest.write(out_image)\r\n",
        "\r\n",
        "\r\n",
        "mask_buildings('building_tile.tif', gdf_path, 'masked.png')"
      ],
      "execution_count": 85,
      "outputs": [
        {
          "output_type": "stream",
          "text": [
            "/usr/local/lib/python3.6/dist-packages/rasterio/__init__.py:207: NotGeoreferencedWarning: Dataset has no geotransform, gcps, or rpcs. The identity matrix be returned.\n",
            "  s = DatasetReader(path, driver=driver, sharing=sharing, **kwargs)\n",
            "/usr/local/lib/python3.6/dist-packages/rasterio/__init__.py:223: NotGeoreferencedWarning: The given matrix is equal to Affine.identity or its flipped counterpart. GDAL may ignore this matrix and save no geotransform without raising an error. This behavior is somewhat driver-specific.\n",
            "  **kwargs)\n"
          ],
          "name": "stderr"
        }
      ]
    },
    {
      "cell_type": "code",
      "metadata": {
        "id": "nH_Ijg_7nNU5"
      },
      "source": [
        "# We can use our previous code to extract each building \r\n",
        "\r\n",
        "import json\r\n",
        "from PIL import Image\r\n",
        "def get_bboxes(coco_file):\r\n",
        "    '''Get the bbox list from our prediction json'''\r\n",
        "    # Read the coco file and get the boxes\r\n",
        "    ## Read and parse our json file\r\n",
        "    with open(coco_file, 'r') as my_file:\r\n",
        "        data = my_file.readlines()\r\n",
        "        # Parse file\r\n",
        "        obj = json.loads(data[0])\r\n",
        "        obj = json.loads(obj)\r\n",
        "    bbox_list = []\r\n",
        "    for box in obj['boxes']:\r\n",
        "        bbox_list.append(box)\r\n",
        "    return bbox_list\r\n",
        "\r\n",
        "\r\n",
        "\r\n",
        "def extract_buildings(bbox_list, img, start_index):\r\n",
        "    '''Extract the buildings based on our model prediction bounding boxes'''   \r\n",
        "    for index, box in enumerate(bbox_list, start=start_index):\r\n",
        "        im=Image.open(img)\r\n",
        "        im=im.crop(box)\r\n",
        "        # Save the image \r\n",
        "        im.save('/content/drive/MyDrive/Official Folder Omdena Talent Good3Energy/Edge_detection/extracted_roofs/' + 'building_'+str(index)+'.png')\r\n",
        "\r\n",
        "        \r\n",
        "# Get our boxes\r\n",
        "boxes = get_bboxes('/content/drive/MyDrive/Official Folder Omdena Talent Good3Energy/Pipeline/output/final_pred.json')\r\n",
        "image = '/content/masked.png'\r\n",
        "\r\n",
        "# Extract and save our buildings (start_index is for naming purposes)\r\n",
        "extract_buildings(boxes, image, start_index=0)\r\n",
        "\r\n"
      ],
      "execution_count": 86,
      "outputs": []
    },
    {
      "cell_type": "markdown",
      "metadata": {
        "id": "aP8INh7vZgH9"
      },
      "source": [
        "Reference:\r\n",
        "- https://stackoverflow.com/questions/30901019/extracting-polygon-given-coordinates-from-an-image-using-opencv"
      ]
    },
    {
      "cell_type": "code",
      "metadata": {
        "id": "SHRjH2oHZjO1"
      },
      "source": [
        ""
      ],
      "execution_count": null,
      "outputs": []
    }
  ]
}