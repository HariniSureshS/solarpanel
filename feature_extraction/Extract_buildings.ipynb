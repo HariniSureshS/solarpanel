{
  "nbformat": 4,
  "nbformat_minor": 0,
  "metadata": {
    "colab": {
      "name": "Extract_buildings.ipynb",
      "provenance": [],
      "collapsed_sections": []
    },
    "kernelspec": {
      "name": "python3",
      "display_name": "Python 3"
    }
  },
  "cells": [
    {
      "cell_type": "markdown",
      "metadata": {
        "id": "nMzycfxTSK8f"
      },
      "source": [
        "This code uses our model predicted bounding boxes to extract individual buildings"
      ]
    },
    {
      "cell_type": "code",
      "metadata": {
        "id": "3Y7GEc1XR7ho"
      },
      "source": [
        "import json\r\n",
        "from PIL import Image\r\n",
        "def get_bboxes(coco_file):\r\n",
        "    '''Get the bbox list from our prediction json'''\r\n",
        "    # Read the coco file and get the boxes\r\n",
        "    ## Read and parse our json file\r\n",
        "    with open(coco_file, 'r') as my_file:\r\n",
        "        data = my_file.readlines()\r\n",
        "        # Parse file\r\n",
        "        obj = json.loads(data[0])\r\n",
        "        obj = json.loads(obj)\r\n",
        "    bbox_list = []\r\n",
        "    for box in obj['boxes']:\r\n",
        "        bbox_list.append(box)\r\n",
        "    return bbox_list\r\n",
        "\r\n",
        "\r\n",
        "\r\n",
        "def extract_buildings(bbox_list, img, start_index):\r\n",
        "    '''Extract the buildings based on our model prediction bounding boxes'''   \r\n",
        "    for index, box in enumerate(bbox_list, start=start_index):\r\n",
        "        im=Image.open(img)\r\n",
        "        im=im.crop(box)\r\n",
        "        # Save the image \r\n",
        "        im.save('/content/drive/MyDrive/Official Folder Omdena Talent Good3Energy/Material_detection/extracted_buildings/' + 'building_'+str(index)+'.png')\r\n",
        "\r\n",
        "        \r\n",
        "# Get our boxes\r\n",
        "boxes = get_bboxes('/content/drive/MyDrive/Official Folder Omdena Talent Good3Energy/Pipeline/output/final_pred.json')\r\n",
        "image = '/content/drive/MyDrive/Official Folder Omdena Talent Good3Energy/Pipeline/tile_image/building_tile.png'\r\n",
        "\r\n",
        "# Extract and save our buildings (start_index is for naming purposes)\r\n",
        "extract_buildings(boxes, image, start_index=172)\r\n",
        "\r\n"
      ],
      "execution_count": null,
      "outputs": []
    },
    {
      "cell_type": "markdown",
      "metadata": {
        "id": "vjnUzrwhR_fg"
      },
      "source": [
        ""
      ]
    }
  ]
}